{
 "cells": [
  {
   "attachments": {
    "One_Hot_Encoding.png": {
     "image/png": "[encoded data removed]"
    }
   },
   "cell_type": "markdown",
   "id": "ae901acd",
   "metadata": {},
   "source": [
    "# Week 6 - Modern Digital Technologies in Text Analysis\n",
    "\n",
    "# Converting Text to Features\n",
    "\n",
    "We are going to cover basic to advanced feature engineering (text to features) methods. By the end of this seminar, you will be comfortable with the following methods:\n",
    "\n",
    "1. One Hot encoding\n",
    "2. Count vectorizer\n",
    "3. N-grams\n",
    "4. Co-occurrence matrix\n",
    "5. Hash vectorizer\n",
    "6. Term Frequency-Inverse Document Frequency (TF-IDF)\n",
    "7. Word embedding\n",
    "8. Implementing fastText\n",
    "\n",
    "We already talked about the text preprocessing, let's explore `feature engineering`, the foundation for Natural Language Processing. Machines or algorithms cannot understand the characters/words or sentences, they can only take numbers as input that also includes binaries. But the inherent nature of text data is unstructured and noisy, which makes it impossible to interact with machines.\n",
    "\n",
    "The procedure of converting raw text data into machine understandable format (numbers) is called feature engineering of text data. Machine learning and deep learning algorithms’ performance and accuracy is fundamentally dependent on the type of feature engineering technique used.\n",
    "\n",
    "In this seminar we will discuss different types of feature engineering methods along with some state-of-the-art techniques; their functionalities, advantages, disadvantages; and examples for each. All of these will make you realize the importance of feature engineering.\n",
    "\n",
    "\n",
    "## 1. Converting Text to Features Using One Hot Encoding\n",
    "\n",
    "The traditional method used for feature engineering is One Hot encoding. If anyone knows the basics of machine learning, One Hot encoding is something they should have come across for sure at some point of time or maybe most of the time. It is a process of converting categorical variables into features or columns and coding one or zero for the presence of that particular category. We are going to use the same logic here, and the number of features is going to be the number of total tokens present in the whole corpus.\n",
    "\n",
    "### Problem\n",
    "You want to convert text to feature using One Hot encoding.\n",
    "\n",
    "### Solution\n",
    "One Hot Encoding will basically convert characters or words into binary\n",
    "numbers as shown below.\n",
    "\n",
    "![One_Hot_Encoding.png](attachment:One_Hot_Encoding.png)\n",
    "\n",
    "### How It Works\n",
    "\n",
    "There are so many functions to generate One Hot encoding. We will take one function and discuss it in depth.\n",
    "\n",
    "### Step 1-1 Store the text in a variable\n",
    "\n",
    "This is for a single line:"
   ]
  },
  {
   "cell_type": "code",
   "execution_count": null,
   "id": "7a09744d",
   "metadata": {},
   "outputs": [],
   "source": [
    "Text = \"I am learning NLP\""
   ]
  },
  {
   "cell_type": "markdown",
   "id": "c0721dc6",
   "metadata": {},
   "source": [
    "### Step 1-2 Execute below function on the text data\n",
    "\n",
    "Below is the function from the pandas library to convert text to feature."
   ]
  },
  {
   "cell_type": "code",
   "execution_count": null,
   "id": "442d1c1c",
   "metadata": {},
   "outputs": [],
   "source": [
    "# Importing the library\n",
    "import pandas as pd\n",
    "\n",
    "# Generating the features\n",
    "pd.get_dummies(Text.split())"
   ]
  },
  {
   "cell_type": "markdown",
   "id": "c947a149",
   "metadata": {},
   "source": [
    "Output has 4 features since the number of distinct words present in the input was 4."
   ]
  },
  {
   "cell_type": "markdown",
   "id": "3a49b295",
   "metadata": {},
   "source": [
    "Now let's check on the larger data:"
   ]
  },
  {
   "cell_type": "code",
   "execution_count": null,
   "id": "9194702c",
   "metadata": {},
   "outputs": [],
   "source": [
    "import PyPDF2\n",
    "from PyPDF2 import PdfReader"
   ]
  },
  {
   "cell_type": "code",
   "execution_count": null,
   "id": "a21d511c",
   "metadata": {},
   "outputs": [],
   "source": [
    "# creating a pdf file object\n",
    "pdf = open(\"paper.pdf\", \"rb\")\n",
    "\n",
    "# create pdf reader object\n",
    "pdf_reader = PdfReader(pdf)\n",
    "\n",
    "print(f'Number of pages are: {len(pdf_reader.pages)}', '\\n\\n')\n",
    "\n",
    "my_str = pdf_reader.pages[2].extract_text()\n",
    "\n",
    "pdf.close()"
   ]
  },
  {
   "cell_type": "code",
   "execution_count": null,
   "id": "caf46ac1",
   "metadata": {},
   "outputs": [],
   "source": [
    "my_str"
   ]
  },
  {
   "cell_type": "code",
   "execution_count": null,
   "id": "db3a975b",
   "metadata": {},
   "outputs": [],
   "source": [
    "# my_str = my_str.split()\n",
    "# my_str"
   ]
  },
  {
   "cell_type": "code",
   "execution_count": null,
   "id": "8f32b138",
   "metadata": {},
   "outputs": [],
   "source": [
    "pd.get_dummies(my_str.split())"
   ]
  },
  {
   "cell_type": "code",
   "execution_count": null,
   "id": "92520128",
   "metadata": {},
   "outputs": [],
   "source": [
    "# creating a pdf file object\n",
    "pdf = open(\"paper.pdf\", \"rb\")\n",
    "\n",
    "# create pdf reader object\n",
    "pdf_reader = PdfReader(pdf)\n",
    "\n",
    "print(f'Number of pages are: {len(pdf_reader.pages)}', '\\n\\n')\n",
    "\n",
    "my_str = ''\n",
    "for i in range(len(pdf_reader.pages)):\n",
    "    my_str = my_str + pdf_reader.pages[i].extract_text() + '\\n'\n",
    "\n",
    "pdf.close()"
   ]
  },
  {
   "cell_type": "code",
   "execution_count": null,
   "id": "e3ea4463",
   "metadata": {},
   "outputs": [],
   "source": [
    "len(my_str.split())"
   ]
  },
  {
   "cell_type": "code",
   "execution_count": null,
   "id": "6f53c781",
   "metadata": {},
   "outputs": [],
   "source": [
    "pd.get_dummies(my_str.split())"
   ]
  },
  {
   "cell_type": "markdown",
   "id": "016155f0",
   "metadata": {},
   "source": [
    "**Question**\n",
    "* What is the disadvantage of the One Hot encoding??!!"
   ]
  },
  {
   "cell_type": "code",
   "execution_count": null,
   "id": "116f01b2",
   "metadata": {},
   "outputs": [],
   "source": []
  },
  {
   "cell_type": "code",
   "execution_count": null,
   "id": "5fd07cbf",
   "metadata": {},
   "outputs": [],
   "source": []
  },
  {
   "cell_type": "code",
   "execution_count": null,
   "id": "22813887",
   "metadata": {},
   "outputs": [],
   "source": []
  },
  {
   "cell_type": "code",
   "execution_count": null,
   "id": "b22a02ee",
   "metadata": {},
   "outputs": [],
   "source": []
  },
  {
   "attachments": {
    "Count_Vectorizing.png": {
     "image/png": "[encoded data removed]"
    }
   },
   "cell_type": "markdown",
   "id": "7e0a78a7",
   "metadata": {},
   "source": [
    "## 2. Converting Text to Features Using Count Vectorizing\n",
    "\n",
    "The approach in previous technique has a disadvantage It does not take the frequency of the word occurring into consideration. If a particular word is appearing multiple times, there is a chance of missing the information if it is not included in the analysis. A count vectorizer will solve that problem.\n",
    "\n",
    "### Problem\n",
    "How do we convert text to feature using a count vectorizer?\n",
    "\n",
    "### Solution\n",
    "\n",
    "Count vectorizer is almost similar to One Hot encoding. The only difference is instead of checking whether the particular word is present or not, it will count the words that are present in the document.\n",
    "\n",
    "Observe the below example. The words “I” and “NLP” occur twice in the first document.\n",
    "\n",
    "![Count_Vectorizing.png](attachment:Count_Vectorizing.png)\n",
    "\n",
    "### How It Works\n",
    "\n",
    "Sklearn has a feature extraction function that extracts features out of the text. Let’s discuss how to execute the same. Import the `CountVectorizer` function from Sklearn as explained below."
   ]
  },
  {
   "cell_type": "code",
   "execution_count": null,
   "id": "e0c8a6b5",
   "metadata": {
    "scrolled": true
   },
   "outputs": [],
   "source": [
    "#importing the function\n",
    "from sklearn.feature_extraction.text import CountVectorizer\n",
    "\n",
    "# Text\n",
    "text = [\"David loves NLP, and David will learn NLP in 2month\"]\n",
    "\n",
    "# create the transform\n",
    "vectorizer = CountVectorizer()\n",
    "\n",
    "# tokenizing\n",
    "vectorizer.fit(text)\n",
    "\n",
    "# encode document\n",
    "vector = vectorizer.transform(text)\n",
    "\n",
    "# summarize & generating output\n",
    "print(vectorizer.vocabulary_)\n",
    "\n",
    "print(vector.toarray())"
   ]
  },
  {
   "cell_type": "markdown",
   "id": "63d0821e",
   "metadata": {},
   "source": [
    "**Question**\n",
    "\n",
    "* What is the drawback of the first two methods??!!"
   ]
  },
  {
   "cell_type": "code",
   "execution_count": null,
   "id": "e1c5fb66",
   "metadata": {},
   "outputs": [],
   "source": []
  },
  {
   "cell_type": "code",
   "execution_count": null,
   "id": "69f45e4f",
   "metadata": {},
   "outputs": [],
   "source": []
  },
  {
   "cell_type": "code",
   "execution_count": null,
   "id": "4595762e",
   "metadata": {},
   "outputs": [],
   "source": []
  },
  {
   "cell_type": "code",
   "execution_count": null,
   "id": "9df4e702",
   "metadata": {},
   "outputs": [],
   "source": []
  },
  {
   "cell_type": "markdown",
   "id": "8f54124b",
   "metadata": {},
   "source": [
    "## 3. Generating N-grams\n",
    "\n",
    "If you observe the above methods, each word is considered as a feature. There is a drawback to this method.\n",
    "\n",
    "It does not consider the previous and the next words, to see if that would give a proper and complete meaning to the words.\n",
    "\n",
    "For example: consider the word `“not bad.”` If this is split into individual words, then it will lose out on conveying `“good”` – which is what this word actually means.\n",
    "\n",
    "As we saw, we might lose potential information or insight because a lot of words make sense once they are put together. This problem can be solved by `N-grams`.\n",
    "\n",
    "`N-grams` are the fusion of multiple letters or multiple words. They are formed in such a way that even the previous and next words are captured.\n",
    "\n",
    "* Unigrams are the unique words present in the sentence.\n",
    "* Bigram is the combination of 2 words.\n",
    "* Trigram is 3 words and so on.\n",
    "\n",
    "For example,\n",
    "```\n",
    "“I am learning NLP”\n",
    "Unigrams: [“I”, “am”, “ learning”, “NLP”]\n",
    "Bigrams: [“I am”, “am learning”, “learning NLP”]\n",
    "Trigrams: [“I am learning”, “am learning NLP”]\n",
    "```\n",
    "\n",
    "### Problem\n",
    "\n",
    "Generate the N-grams for the given sentence.\n",
    "\n",
    "### Solution\n",
    "\n",
    "There are a lot of packages that will generate the N-grams. The one that is mostly used is `TextBlob`.\n",
    "\n",
    "### How It Works\n",
    "\n",
    "Following the steps bellow.\n",
    "\n",
    "### Step 3-1 Generating N-grams using TextBlob\n",
    "\n",
    "Let us see how to generate N-grams using TextBlob."
   ]
  },
  {
   "cell_type": "code",
   "execution_count": null,
   "id": "7f784c78",
   "metadata": {},
   "outputs": [],
   "source": [
    "Text = \"I am learning NLP\""
   ]
  },
  {
   "cell_type": "markdown",
   "id": "3fca29eb",
   "metadata": {},
   "source": [
    "Use the below TextBlob function to create N-grams. Use the text that is defined above and mention the `n` based on the requirement."
   ]
  },
  {
   "cell_type": "code",
   "execution_count": null,
   "id": "52784f12",
   "metadata": {},
   "outputs": [],
   "source": [
    "#Import textblob\n",
    "from textblob import TextBlob\n",
    "\n",
    "#For unigram : Use n = 1\n",
    "TextBlob(Text).ngrams(1)"
   ]
  },
  {
   "cell_type": "code",
   "execution_count": null,
   "id": "ada1b5a3",
   "metadata": {
    "scrolled": true
   },
   "outputs": [],
   "source": [
    "#For Bigram : For bigrams, use n = 2\n",
    "TextBlob(Text).ngrams(2)"
   ]
  },
  {
   "cell_type": "markdown",
   "id": "576a3198",
   "metadata": {},
   "source": [
    "If we observe, we have 3 lists with 2 words at an instance."
   ]
  },
  {
   "cell_type": "code",
   "execution_count": null,
   "id": "53b2d884",
   "metadata": {},
   "outputs": [],
   "source": [
    "#For Trigram : For trigrams, use n = 3\n",
    "TextBlob(Text).ngrams(3)"
   ]
  },
  {
   "cell_type": "markdown",
   "id": "a7185070",
   "metadata": {},
   "source": [
    "### Step 3-2 Bigram-based features for a document\n",
    "\n",
    "We will use count vectorizer to generate features. Using the same function, let us generate bigram features and see what the output looks like."
   ]
  },
  {
   "cell_type": "code",
   "execution_count": null,
   "id": "b71a6eac",
   "metadata": {},
   "outputs": [],
   "source": [
    "#importing the function\n",
    "from sklearn.feature_extraction.text import CountVectorizer\n",
    "\n",
    "# Text\n",
    "text = [\"David loves NLP and David will learn NLP in 2month \"]\n",
    "\n",
    "# create the transform\n",
    "vectorizer = CountVectorizer(ngram_range=(2,2))\n",
    "\n",
    "# tokenizing\n",
    "vectorizer.fit(text)\n",
    "\n",
    "# encode document\n",
    "vector = vectorizer.transform(text)\n",
    "\n",
    "# summarize & generating output\n",
    "print(vectorizer.vocabulary_)\n",
    "print(vector.toarray())"
   ]
  },
  {
   "cell_type": "markdown",
   "id": "5a075ae3",
   "metadata": {},
   "source": [
    "The output has features with bigrams, and for our example, the count is one for all the tokens."
   ]
  },
  {
   "cell_type": "code",
   "execution_count": null,
   "id": "fcea1dcf",
   "metadata": {},
   "outputs": [],
   "source": []
  },
  {
   "cell_type": "code",
   "execution_count": null,
   "id": "552e6c24",
   "metadata": {},
   "outputs": [],
   "source": []
  },
  {
   "cell_type": "code",
   "execution_count": null,
   "id": "65472286",
   "metadata": {},
   "outputs": [],
   "source": []
  },
  {
   "cell_type": "code",
   "execution_count": null,
   "id": "0f2abdcc",
   "metadata": {},
   "outputs": [],
   "source": []
  },
  {
   "cell_type": "markdown",
   "id": "8b18555f",
   "metadata": {},
   "source": [
    "## 4. Generating Co-occurrence Matrix\n",
    "\n",
    "Let's discuss one more feture engineering method called a co-occurrence matrix.\n",
    "\n",
    "### Problem\n",
    "\n",
    "Understand and generate a co-occurence matrix.\n",
    "\n",
    "### Solution\n",
    "\n",
    "A co-occurrence matrix is like a count vectorizer where it counts the occurrence of the words together, instead of individual words.\n",
    "\n",
    "### How It Works\n",
    "\n",
    "Let’s see how to generate these kinds of matrixes using `nltk`, `bigrams`, and some basic Python coding skills.\n",
    "\n",
    "### Step 4-1 Import the necessary libraries"
   ]
  },
  {
   "cell_type": "code",
   "execution_count": null,
   "id": "414474a8",
   "metadata": {},
   "outputs": [],
   "source": [
    "import numpy as np\n",
    "import nltk\n",
    "from nltk import bigrams\n",
    "import itertools"
   ]
  },
  {
   "cell_type": "markdown",
   "id": "1825eb4c",
   "metadata": {},
   "source": [
    "### Step 4-2 Create function for co-occurrence matrix\n",
    "\n",
    "The co_occurrence_matrix function is below."
   ]
  },
  {
   "cell_type": "code",
   "execution_count": null,
   "id": "bf628ee1",
   "metadata": {},
   "outputs": [],
   "source": [
    "def co_occurrence_matrix(corpus):\n",
    "    vocab = set(corpus)\n",
    "    vocab = list(vocab)\n",
    "    \n",
    "    vocab_to_index = {word:i for i, word in enumerate(vocab)}\n",
    "    \n",
    "    # Create bigrams from all words in corpus\n",
    "    bi_grams = list(bigrams(corpus))\n",
    "    \n",
    "    # Frequency distribution of bigrams ((word1, word2), num_occurrences)\n",
    "    bigram_freq = nltk.FreqDist(bi_grams).most_common(len(bi_grams))\n",
    "#     print(bigram_freq)\n",
    "    \n",
    "    # Initialise co-occurrence matrix\n",
    "    # co_occurrence_matrix[current][previous]\n",
    "    co_occurrence_matrix = np.zeros((len(vocab), len(vocab)))\n",
    "    \n",
    "    # Loop through the bigrams taking the current and previous word,\n",
    "    # and the number of occurrences of the bigram.\n",
    "    for bigram in bigram_freq:\n",
    "        current = bigram[0][1]    # first word\n",
    "        previous = bigram[0][0]   # second word\n",
    "        count = bigram[1]         # frequency of pairs of words\n",
    "        pos_current = vocab_to_index[current]     # index of current word\n",
    "        pos_previous = vocab_to_index[previous]   # index of previous word\n",
    "        co_occurrence_matrix[pos_current][pos_previous] = count   # write number of accurence in matrix\n",
    "        \n",
    "    co_occurrence_matrix = np.matrix(co_occurrence_matrix)   # make the matrix\n",
    "    \n",
    "    # return the matrix and the index\n",
    "    return co_occurrence_matrix, vocab_to_index"
   ]
  },
  {
   "cell_type": "markdown",
   "id": "8ec88b67",
   "metadata": {},
   "source": [
    "### Step 4-3 Generate co-occurrence matrix\n",
    "\n",
    "Here are the sentences for testing:\n",
    "\n",
    "`itertools.chain.from_iterable()` function [Documentation](https://www.geeksforgeeks.org/python-itertools-chain-from_iterable/)"
   ]
  },
  {
   "cell_type": "code",
   "execution_count": null,
   "id": "b7027f05",
   "metadata": {
    "scrolled": false
   },
   "outputs": [],
   "source": [
    "sentences = [['I', 'love', 'nlp'],\n",
    "             ['I', 'love','to', 'learn'],\n",
    "             ['nlp', 'is', 'future'],\n",
    "             ['nlp', 'is', 'cool']]\n",
    "\n",
    "# create one list using many lists\n",
    "merged = list(itertools.chain.from_iterable(sentences))\n",
    "# print(merged)\n",
    "\n",
    "matrix, vocab_to_index  = co_occurrence_matrix(merged)\n",
    "\n",
    "# generate the matrix\n",
    "CoMatrixFinal = pd.DataFrame(matrix, index = list(vocab_to_index.keys()), columns = list(vocab_to_index.keys()))\n",
    "\n",
    "print(CoMatrixFinal)"
   ]
  },
  {
   "cell_type": "markdown",
   "id": "e95b76ff",
   "metadata": {},
   "source": [
    "If you observe, **“I,” “love,”** and **“is,” nlp”** has appeared together twice, and a few other words appeared only once."
   ]
  },
  {
   "cell_type": "code",
   "execution_count": null,
   "id": "702046ce",
   "metadata": {},
   "outputs": [],
   "source": []
  },
  {
   "cell_type": "code",
   "execution_count": null,
   "id": "086cd6bd",
   "metadata": {},
   "outputs": [],
   "source": []
  },
  {
   "cell_type": "code",
   "execution_count": null,
   "id": "9da74cbe",
   "metadata": {},
   "outputs": [],
   "source": []
  },
  {
   "cell_type": "code",
   "execution_count": null,
   "id": "d8d43212",
   "metadata": {},
   "outputs": [],
   "source": []
  },
  {
   "cell_type": "markdown",
   "id": "5c13f4f7",
   "metadata": {},
   "source": [
    "## 5. Hash Vectorizing\n",
    "\n",
    "A count vectorizer and co-occurrence matrix have one limitation though. In these methods, the vocabulary can become very large and cause memory/computation issues.\n",
    "\n",
    "- One of the ways to solve this problem is a `Hash Vectorizer`.\n",
    "\n",
    "### Problem\n",
    "\n",
    "Understand and generate a Hash Vectorizer.\n",
    "\n",
    "### Solution\n",
    "\n",
    "Hash Vectorizer is memory efficient and instead of storing the tokens as strings, the vectorizer applies the [hashing trick](https://en.wikipedia.org/wiki/Feature_hashing) to encode them as numerical indexes.\n",
    "\n",
    "**Note**: The downside is that it’s one way and once vectorized, the features cannot be retrieved.\n",
    "\n",
    "### How It Works\n",
    "\n",
    "Let’s take an example and see how to do it using **sklearn**.\n",
    "\n",
    "### Step 5-1 Import the necessary libraries and create document"
   ]
  },
  {
   "cell_type": "code",
   "execution_count": null,
   "id": "5880b65a",
   "metadata": {},
   "outputs": [],
   "source": [
    "from sklearn.feature_extraction.text import HashingVectorizer"
   ]
  },
  {
   "cell_type": "code",
   "execution_count": null,
   "id": "6ef1c557",
   "metadata": {},
   "outputs": [],
   "source": [
    "# list of text documents\n",
    "text = [\"The quick brown fox jumped over the lazy dog.\"]"
   ]
  },
  {
   "cell_type": "markdown",
   "id": "45e0fcd9",
   "metadata": {},
   "source": [
    "### Step 5-2 Generate hash vectorizer matrix\n",
    "\n",
    "Let’s create the HashingVectorizer of a vector size of 10."
   ]
  },
  {
   "cell_type": "code",
   "execution_count": null,
   "id": "96bf63b7",
   "metadata": {},
   "outputs": [],
   "source": [
    "# transform\n",
    "vectorizer = HashingVectorizer(n_features=10)\n",
    "\n",
    "# create the hashing vector\n",
    "vector = vectorizer.transform(text)\n",
    "\n",
    "# summarize the vector\n",
    "\n",
    "print(vector.shape)\n",
    "\n",
    "print(vector.toarray())"
   ]
  },
  {
   "cell_type": "markdown",
   "id": "fd32973c",
   "metadata": {},
   "source": [
    "It created vector of size 10 and now this can be used for any `supervised/unsupervised` tasks."
   ]
  },
  {
   "cell_type": "code",
   "execution_count": null,
   "id": "7b7f4bf8",
   "metadata": {},
   "outputs": [],
   "source": []
  },
  {
   "cell_type": "code",
   "execution_count": null,
   "id": "dd384ef9",
   "metadata": {},
   "outputs": [],
   "source": []
  },
  {
   "cell_type": "code",
   "execution_count": null,
   "id": "d8b2c458",
   "metadata": {},
   "outputs": [],
   "source": []
  },
  {
   "cell_type": "code",
   "execution_count": null,
   "id": "220ef64b",
   "metadata": {},
   "outputs": [],
   "source": []
  },
  {
   "cell_type": "markdown",
   "id": "142e97c0",
   "metadata": {},
   "source": [
    "## 6. Converting Text to Features Using TF-IDF\n",
    "\n",
    "Again, in the above-mentioned text-to-feature methods, there are few drawbacks, hence the introduction of TF-IDF. Below are the disadvantages of the above methods.\n",
    "\n",
    "- Let’s say a particular word is appearing in all the documents of the corpus, then it will achieve higher importance in our previous methods. That’s bad for our analysis.\n",
    "\n",
    "- The whole idea of having TF-IDF is to reflect on how important a word is to a document in a collection, and hence normalizing words appeared frequently in all the documents.\n",
    "\n",
    "### Problem\n",
    "\n",
    "Text to feature using TF-IDF.\n",
    "\n",
    "### Solution\n",
    "\n",
    "**Term frequency (TF)**: Term frequency is simply the ratio of the count of a word present in a sentence, to the length of the sentence.\n",
    "\n",
    "`TF` is basically capturing the importance of the word irrespective of the length of the document. For example, a word with the frequency of 3 with the length of sentence being 10 is not the same as when the word length of sentence is 100 words. It should get more importance in the first scenario; that is what `TF` does.\n",
    "\n",
    "**Inverse Document Frequency (IDF)**: `IDF` of each word is the `log` of the ratio of the total number of rows to the number of rows in a particular document in which that word is present.\n",
    "\n",
    "`IDF = log(N/n)`, where `N` is the total number of rows and `n` is the number of rows in which the word was present.\n",
    "\n",
    "`IDF` will measure the rareness of a term. Words like `“a,”` and `“the”` show up in all the documents of the corpus, but rare words will not be there in all the documents. So, if a word is appearing in almost all documents, then that word is of no use to us since it is not helping to classify or in information retrieval. IDF will nullify this problem.\n",
    "\n",
    "`TF-IDF` is the simple product of `TF` and `IDF` so that both of the drawbacks are addressed, which makes predictions and information retrieval relevant.\n",
    "\n",
    "### How It Works\n",
    "\n",
    "Let's look at the following steps.\n",
    "\n",
    "### Step 6-1 Read the text data"
   ]
  },
  {
   "cell_type": "code",
   "execution_count": null,
   "id": "917079e2",
   "metadata": {},
   "outputs": [],
   "source": [
    "Text = [\"The quick brown fox jumped over the lazy dog.\", \"The dog.\", \"The fox\"]"
   ]
  },
  {
   "cell_type": "markdown",
   "id": "4246306d",
   "metadata": {},
   "source": [
    "### Step 6-2 Creating the Features\n",
    "\n",
    "Execute the below code on the text data:"
   ]
  },
  {
   "cell_type": "code",
   "execution_count": null,
   "id": "7596eea1",
   "metadata": {},
   "outputs": [],
   "source": [
    "#Import TfidfVectorizer\n",
    "from sklearn.feature_extraction.text import TfidfVectorizer\n",
    "\n",
    "#Create the transform\n",
    "vectorizer = TfidfVectorizer()\n",
    "\n",
    "#Tokenize and build vocab\n",
    "vectorizer.fit(Text)\n",
    "\n",
    "#Summarize\n",
    "print(vectorizer.vocabulary_)\n",
    "\n",
    "print(vectorizer.idf_)"
   ]
  },
  {
   "cell_type": "markdown",
   "id": "a1d44978",
   "metadata": {},
   "source": [
    "If you observe, `“the”` is appearing in all the 3 documents and it does not add much value, and hence the vector value is 1, which is less than all the other vector representations of the tokens.\n",
    "\n",
    "All these methods or techniques we have looked into so far are based on frequency and hence called frequency-based embeddings or features. And in the next method, let us look at prediction-based embeddings, typically called word embeddings."
   ]
  },
  {
   "cell_type": "code",
   "execution_count": null,
   "id": "63be5f1e",
   "metadata": {},
   "outputs": [],
   "source": []
  },
  {
   "cell_type": "code",
   "execution_count": null,
   "id": "33b9d79b",
   "metadata": {},
   "outputs": [],
   "source": []
  },
  {
   "cell_type": "code",
   "execution_count": null,
   "id": "aa0a298c",
   "metadata": {},
   "outputs": [],
   "source": []
  },
  {
   "cell_type": "code",
   "execution_count": null,
   "id": "73a1628a",
   "metadata": {},
   "outputs": [],
   "source": []
  },
  {
   "attachments": {
    "word_emedding.png": {
     "image/png": "[encoded data removed]"
    }
   },
   "cell_type": "markdown",
   "id": "596ee805",
   "metadata": {},
   "source": [
    "## 7. Implementing Word Embeddings\n",
    "\n",
    "This method requires you to have a basic knowledge about how a neural network works and the mechanisms by which weights in the neural network are updated. If you don't have any knowledge about the Neural Network (NN) still it's fine. We will talk about it in the following seminars.\n",
    "\n",
    "The fact is even though all previous methods solve most of the problems, once we get into more complicated problems where we want to capture the `semantic relation` between the words, these methods fail to perform.\n",
    "\n",
    "Below are the challenges:\n",
    "\n",
    "- All these techniques fail to capture the context and meaning of the words. All the methods discussed so far basically depend on the appearance or frequency of the words. But we need to look at how to capture the context or semantic relations: that is, how frequently the words are appearing close by.\n",
    "\n",
    "1. I am eating an apple.\n",
    "2. I am using apple.\n",
    "\n",
    "If you observe the above example, Apple gives different meanings when it is used with different (close by) adjacent words, eating and using.\n",
    "\n",
    "- For a problem like a document classification (book classification in the library), a document is really huge and there are a humongous number of tokens generated. In these scenarios, your number of features can get out of control (wherein) thus hampering the accuracy and performance.\n",
    "\n",
    "A machine/algorithm can match two documents/texts and say whether they are same or not. But how do you make a machine understand that `“Apple”` in `“Apple is a tasty fruit”` is a fruit that can be eaten and not a company?\n",
    "\n",
    "The answer to the above questions lies in creating a representation for words that capture their meanings, semantic relationships, and the different types of contexts they are used in.\n",
    "\n",
    "The above challenges are addressed by **Word Embeddings**.\n",
    "\n",
    "`Word embedding` is the feature learning technique where words from the vocabulary are mapped to vectors of real numbers capturing the contextual hierarchy.\n",
    "\n",
    "If you observe the below table, every word is represented with 4 numbers called vectors. Using the word embeddings technique, we are going to derive those vectors for each and every word so that we can use it in future analysis. In the below example, the dimension is 4. But we usually use a dimension greater than 100.\n",
    "\n",
    "![word_emedding.png](attachment:word_emedding.png)\n",
    "\n",
    "### Problem\n",
    "\n",
    "You want to implement word embeddings.\n",
    "\n",
    "### Solution\n",
    "\n",
    "Word embeddings are prediction based, and they use shallow neural networks to train the model that will lead to learning the weight and using them as a vector representation.\n",
    "\n",
    "**word2vec**: word2vec is the deep learning Google framework to train word embeddings. It will use all the words of the whole corpus and predict the nearby words. It will create a vector for all the words present in the corpus in a way so that the context is captured. It also outperforms any other methodologies in the space of word similarity and word analogies.\n",
    "\n",
    "There are mainly 2 types in word2vec.\n",
    "\n",
    "1. Skip-Gram\n",
    "2. Continuous Bag of Words (CBOW)"
   ]
  },
  {
   "attachments": {
    "word2vec_types.png": {
     "image/png": "[encoded data removed]"
    }
   },
   "cell_type": "markdown",
   "id": "67603bdd",
   "metadata": {},
   "source": [
    "![word2vec_types.png](attachment:word2vec_types.png)\n",
    "\n",
    "### How It Works\n",
    "\n",
    "The above figure shows the architecture of the `CBOW` and `skip-gram` algorithms used to build word embeddings. Let us see how these models work in detail.\n",
    "\n",
    "### Skip-Gram\n",
    "\n",
    "The skip-gram model [Mikolov et al., 2013](https://arxiv.org/abs/1310.4546) is used to predict the probabilities of a word given the context of word or words.\n",
    "\n",
    "Let us take a small sentence and understand how it actually works. Each sentence will generate a target word and context, which are the words nearby. The number of words to be considered around the target variable is called the window size. The table below shows all the possible target and context variables for window size 2. Window size needs to be selected based on data and the resources at your disposal. The larger the window size, the higher the computing power."
   ]
  },
  {
   "attachments": {
    "Skip-Gram.png": {
     "image/png": "[encoded data removed]"
    }
   },
   "cell_type": "markdown",
   "id": "d65eb278",
   "metadata": {},
   "source": [
    "![Skip-Gram.png](attachment:Skip-Gram.png)\n",
    "\n",
    "Since it takes a lot of text and computing power, let us go ahead and take sample data and build a `skip-gram` model.\n",
    "\n",
    "As discussed earlier, \n",
    "* Import the text corpus\n",
    "* Break it into sentences\n",
    "* Perform some cleaning and preprocessing like the removal of punctuation and digits\n",
    "* Split the sentences into words or tokens, etc."
   ]
  },
  {
   "cell_type": "code",
   "execution_count": null,
   "id": "bb5ba3e5",
   "metadata": {},
   "outputs": [],
   "source": [
    "#Example sentences\n",
    "\n",
    "sentences = [['I', 'love', 'nlp'],\n",
    "             ['I', 'will', 'learn', 'nlp', 'in', '2','months'],\n",
    "             ['nlp', 'is', 'future'],\n",
    "             ['nlp', 'saves', 'time', 'and', 'solves', 'lots', 'of', 'industry', 'problems'],\n",
    "             ['nlp', 'uses', 'machine', 'learning']]"
   ]
  },
  {
   "cell_type": "code",
   "execution_count": null,
   "id": "e94f152a",
   "metadata": {},
   "outputs": [],
   "source": [
    "# Install gensim library\n",
    "\n",
    "# !pip install gensim"
   ]
  },
  {
   "cell_type": "code",
   "execution_count": null,
   "id": "929b8e42",
   "metadata": {},
   "outputs": [],
   "source": [
    "#import library\n",
    "\n",
    "import gensim\n",
    "from gensim.models import Word2Vec\n",
    "from sklearn.decomposition import PCA\n",
    "import matplotlib.pyplot as plt"
   ]
  },
  {
   "cell_type": "markdown",
   "id": "c9e50ee2",
   "metadata": {},
   "source": [
    "For more information about `word2vec`, check the [documentation.](https://radimrehurek.com/gensim/models/word2vec.html)"
   ]
  },
  {
   "cell_type": "code",
   "execution_count": null,
   "id": "35c363c2",
   "metadata": {},
   "outputs": [],
   "source": [
    "# training the model\n",
    "\n",
    "# vector_size --> Dimensionality of the word vectors\n",
    "# window --> Maximum distance between the current and predicted word within a sentence\n",
    "# min_count --> Ignores all words with total frequency lower than this\n",
    "# sg --> Training algorithm, 1 for skip-gram otherwise CBOW\n",
    "\n",
    "skipgram = Word2Vec(sentences, vector_size = 50, window = 3, min_count = 1, sg = 1)\n",
    "\n",
    "print(f\"{skipgram}\\n\")\n",
    "\n",
    "# access vector for one word\n",
    "print(skipgram.wv['nlp'])"
   ]
  },
  {
   "cell_type": "markdown",
   "id": "60dc429f",
   "metadata": {},
   "source": [
    "Since our vector size parameter was 50, the model gives a vector of size 50 for each word."
   ]
  },
  {
   "cell_type": "code",
   "execution_count": null,
   "id": "e17c9161",
   "metadata": {},
   "outputs": [],
   "source": [
    "# access vector for another one word\n",
    "\n",
    "print(skipgram.wv['deep'])"
   ]
  },
  {
   "cell_type": "markdown",
   "id": "e6621057",
   "metadata": {},
   "source": [
    "We get an error saying the word doesn’t exist because this word was not there in our input training data. This is the reason we need to train the algorithm on as much data possible so that we do not miss out on words.\n",
    "\n",
    "There is one more way to tackle this problem. Refer to TF-IDF method."
   ]
  },
  {
   "cell_type": "code",
   "execution_count": null,
   "id": "d365f3b6",
   "metadata": {},
   "outputs": [],
   "source": [
    "# save model\n",
    "skipgram.save('skipgram.bin')\n",
    "\n",
    "# load model\n",
    "skipgram = Word2Vec.load('skipgram.bin')"
   ]
  },
  {
   "cell_type": "markdown",
   "id": "9220b17d",
   "metadata": {},
   "source": [
    "T–SNE plot is one of the ways to evaluate word embeddings. Let’s generate it and see how it looks."
   ]
  },
  {
   "cell_type": "code",
   "execution_count": null,
   "id": "a0c33adf",
   "metadata": {
    "scrolled": false
   },
   "outputs": [],
   "source": [
    "# T–SNE plot\n",
    "X = skipgram.wv[skipgram.wv.index_to_key]\n",
    "\n",
    "pca = PCA(n_components=2)\n",
    "\n",
    "result = pca.fit_transform(X)\n",
    "\n",
    "# create a scatter plot of the projection\n",
    "plt.scatter(result[:, 0], result[:, 1])\n",
    "\n",
    "words = list(skipgram.wv.index_to_key)\n",
    "\n",
    "for i, word in enumerate(words):\n",
    "    plt.annotate(word, xy=(result[i, 0], result[i, 1]))\n",
    "    \n",
    "plt.show()"
   ]
  },
  {
   "cell_type": "markdown",
   "id": "cc01f726",
   "metadata": {},
   "source": [
    "### Continuous Bag of Words (CBOW)\n",
    "\n",
    "Now let’s see how to build CBOW model."
   ]
  },
  {
   "cell_type": "code",
   "execution_count": null,
   "id": "988a3b23",
   "metadata": {},
   "outputs": [],
   "source": [
    "# import library\n",
    "from gensim.models import Word2Vec\n",
    "from sklearn.decomposition import PCA\n",
    "import matplotlib.pyplot as plt"
   ]
  },
  {
   "cell_type": "code",
   "execution_count": null,
   "id": "3c1a3b8c",
   "metadata": {},
   "outputs": [],
   "source": [
    "#Example sentences\n",
    "sentences = [['I', 'love', 'nlp'],\n",
    "             ['I', 'will', 'learn', 'nlp', 'in', '2','months'],\n",
    "             ['nlp', 'is', 'future'],\n",
    "             ['nlp', 'saves', 'time', 'and', 'solves', 'lot', 'of', 'industry', 'problems'],\n",
    "             ['nlp', 'uses', 'machine', 'learning']]\n",
    "\n",
    "# training the model\n",
    "cbow = Word2Vec(sentences, vector_size = 50, window = 3, min_count = 1, sg = 0)\n",
    "print(f\"{cbow}\\n\")\n",
    "\n",
    "# access vector for one word\n",
    "print(cbow.wv['nlp'])\n",
    "\n",
    "# save model\n",
    "cbow.save('cbow.bin')\n",
    "\n",
    "# load model\n",
    "cbow = Word2Vec.load('cbow.bin')"
   ]
  },
  {
   "cell_type": "code",
   "execution_count": null,
   "id": "8c5a1e12",
   "metadata": {},
   "outputs": [],
   "source": [
    "# T – SNE plot\n",
    "X = cbow.wv[cbow.wv.index_to_key]\n",
    "\n",
    "pca = PCA(n_components=2)\n",
    "\n",
    "result = pca.fit_transform(X)\n",
    "\n",
    "# create a scatter plot of the projection\n",
    "plt.scatter(result[:, 0], result[:, 1])\n",
    "\n",
    "words = list(cbow.wv.index_to_key)\n",
    "\n",
    "for i, word in enumerate(words):\n",
    "    plt.annotate(word, xy=(result[i, 0], result[i, 1]))\n",
    "    \n",
    "plt.show()"
   ]
  },
  {
   "cell_type": "markdown",
   "id": "f0ca2e93",
   "metadata": {},
   "source": [
    "But to train these models, it requires a huge amount of computing power. So, let us go ahead and use Google’s pre-trained model, which has been trained with over 100 billion words.\n",
    "\n",
    "Download the model from the below path and keep it in your local storage:\n",
    "\n",
    "https://drive.google.com/file/d/0B7XkCwpI5KDYNlNUTTlSS21pQmM/edit\n",
    "\n",
    "Import the gensim package and follow the steps to understand Google’s word2vec."
   ]
  },
  {
   "cell_type": "code",
   "execution_count": null,
   "id": "4ab6d0a8",
   "metadata": {
    "scrolled": true
   },
   "outputs": [],
   "source": [
    "# import gensim package\n",
    "import gensim\n",
    "\n",
    "# load the saved model\n",
    "model = gensim.models.KeyedVectors.load_word2vec_format(\"GoogleNews-vectors-negative300.bin\", binary=True)"
   ]
  },
  {
   "cell_type": "code",
   "execution_count": null,
   "id": "9bb26b0e",
   "metadata": {},
   "outputs": [],
   "source": [
    "# Checking how similarity works.\n",
    "print(model.similarity('this', 'is'))"
   ]
  },
  {
   "cell_type": "code",
   "execution_count": null,
   "id": "711af60a",
   "metadata": {},
   "outputs": [],
   "source": [
    "# Lets check one more.\n",
    "print (model.similarity('post', 'book'))"
   ]
  },
  {
   "cell_type": "markdown",
   "id": "dd04f8be",
   "metadata": {},
   "source": [
    "“This” and “is” have a good amount of similarity, but the similarity between the words “post” and “book” is poor. For any given set of words, it uses the vectors of both the words and calculates the similarity between them."
   ]
  },
  {
   "cell_type": "code",
   "execution_count": null,
   "id": "9d83b683",
   "metadata": {},
   "outputs": [],
   "source": [
    "# Finding the odd one out.\n",
    "model.doesnt_match('breakfast cereal dinner lunch'.split())"
   ]
  },
  {
   "cell_type": "markdown",
   "id": "c57954f7",
   "metadata": {},
   "source": [
    "Of 'breakfast’, ‘cereal’, ‘dinner’ and ‘lunch', only cereal is the word that is not anywhere related to the remaining 3 words."
   ]
  },
  {
   "cell_type": "code",
   "execution_count": null,
   "id": "811fbc01",
   "metadata": {},
   "outputs": [],
   "source": [
    "# It is also finding the relations between words.\n",
    "\n",
    "model.most_similar(positive=['woman', 'king'], negative=['man'])"
   ]
  },
  {
   "attachments": {
    "King-Woman_Man.png": {
     "image/png": "[encoded data removed]"
    }
   },
   "cell_type": "markdown",
   "id": "0e7c27c8",
   "metadata": {},
   "source": [
    "If you add ‘woman’ and ‘king’ and minus man, it is predicting queen as output with 71% confidence. Isn’t this amazing?\n",
    "\n",
    "![King-Woman_Man.png](attachment:King-Woman_Man.png)"
   ]
  },
  {
   "attachments": {
    "T_SNE_Plot.png": {
     "image/png": "[encoded data removed]"
    }
   },
   "cell_type": "markdown",
   "id": "c94c3e49",
   "metadata": {},
   "source": [
    "Let’s have a look at few of the interesting examples using T – SNE plot for word embeddings.\n",
    "\n",
    "![T_SNE_Plot.png](attachment:T_SNE_Plot.png)\n",
    "\n",
    "Above is the word embedding’s output representation of home interiors and exteriors. If you clearly observe, all the words related to electric fittings are near to each other; similarly, words related to bathroom fittings are near to each other, and so on. This is the beauty of word embeddings."
   ]
  },
  {
   "cell_type": "code",
   "execution_count": null,
   "id": "28d99665",
   "metadata": {},
   "outputs": [],
   "source": []
  },
  {
   "cell_type": "code",
   "execution_count": null,
   "id": "3c617221",
   "metadata": {},
   "outputs": [],
   "source": []
  },
  {
   "cell_type": "code",
   "execution_count": null,
   "id": "12f53d93",
   "metadata": {},
   "outputs": [],
   "source": []
  },
  {
   "cell_type": "code",
   "execution_count": null,
   "id": "0b9c986e",
   "metadata": {},
   "outputs": [],
   "source": []
  },
  {
   "cell_type": "markdown",
   "id": "1b141098",
   "metadata": {},
   "source": [
    "## 8. Implementing fastText\n",
    "\n",
    "fastText is another deep learning framework developed by Facebook to capture context and meaning.\n",
    "\n",
    "### Problem\n",
    "\n",
    "How to implement fastText in Python.\n",
    "\n",
    "### Solution\n",
    "\n",
    "fastText is the improvised version of word2vec. word2vec basically considers words to build the representation. But fastText takes each character while computing the representation of the word.\n",
    "\n",
    "### How It Works\n",
    "\n",
    "Let us see how to build a fastText word embedding."
   ]
  },
  {
   "cell_type": "code",
   "execution_count": null,
   "id": "bd0bd7d6",
   "metadata": {},
   "outputs": [],
   "source": [
    "# Import FastText\n",
    "from gensim.models import FastText\n",
    "from sklearn.decomposition import PCA\n",
    "import matplotlib.pyplot as plt"
   ]
  },
  {
   "cell_type": "markdown",
   "id": "0a63048e",
   "metadata": {},
   "source": [
    "For more information about `FastText`, check the [documentation.](https://radimrehurek.com/gensim/models/fasttext.html)"
   ]
  },
  {
   "cell_type": "code",
   "execution_count": null,
   "id": "8678ba16",
   "metadata": {},
   "outputs": [],
   "source": [
    "# Example sentences\n",
    "sentences = [['I', 'love', 'nlp'],\n",
    "             ['I', 'will', 'learn', 'nlp', 'in', '2','months'],\n",
    "             ['nlp', 'is', 'future'],\n",
    "             ['nlp', 'saves', 'time', 'and', 'solves', 'lot', 'of', 'industry', 'problems'],\n",
    "             ['nlp', 'uses', 'machine', 'learning']]\n",
    "\n",
    "# workers --> Use these many worker threads to train the model\n",
    "#             (=faster training with multicore machines).\n",
    "\n",
    "# min_n --> Minimum length of char n-grams to be used for training word representations.\n",
    "# max_n --> Max length of char ngrams to be used for training word representations.\n",
    "#.          Set max_n to be lesser than min_n to avoid char ngrams being used.\n",
    "fast = FastText(sentences, vector_size=20, window=1, min_count=1,\n",
    "                workers=5, min_n=1, max_n=2)\n",
    "\n",
    "# vector for word nlp\n",
    "print(fast.wv['nlp'])"
   ]
  },
  {
   "cell_type": "code",
   "execution_count": null,
   "id": "932635c8",
   "metadata": {},
   "outputs": [],
   "source": [
    "print(fast.wv['deep'])"
   ]
  },
  {
   "cell_type": "markdown",
   "id": "8cd40b0b",
   "metadata": {},
   "source": [
    "This is the advantage of using fastText. The “deep” was not present in training of word2vec and we did not get a vector for that word. But since fastText is building on character level, even for the word that was not there in training, it will provide results. You can see the vector for the word “deep,” but it's not present in the input data."
   ]
  },
  {
   "cell_type": "code",
   "execution_count": null,
   "id": "a58ebcfb",
   "metadata": {},
   "outputs": [],
   "source": [
    "# save model\n",
    "fast.save('fast.bin')\n",
    "\n",
    "# load model\n",
    "fast = Word2Vec.load('fast.bin')\n",
    "\n",
    "# visualize - T–SNE plot\n",
    "X = fast.wv[fast.wv.index_to_key]\n",
    "\n",
    "pca = PCA(n_components=2)\n",
    "\n",
    "result = pca.fit_transform(X)"
   ]
  },
  {
   "cell_type": "code",
   "execution_count": null,
   "id": "ec0b9932",
   "metadata": {},
   "outputs": [],
   "source": [
    "# create a scatter plot of the projection\n",
    "plt.scatter(result[:, 0], result[:, 1])\n",
    "\n",
    "\n",
    "words = list(fast.wv.index_to_key)\n",
    "\n",
    "for i, word in enumerate(words):\n",
    "    plt.annotate(word, xy=(result[i, 0], result[i, 1]))\n",
    "    \n",
    "plt.show()"
   ]
  },
  {
   "cell_type": "markdown",
   "id": "c9a7fd43",
   "metadata": {},
   "source": [
    "The figure above shows the embedding representation for fastText. If you observe closely, the words “love” and “solve” are close together in fastText but in your skip-gram and CBOW, “love” and “learn” are near to each other. This is an effect of character-level embeddings.\n",
    "\n",
    "We hope that by now you are familiar and comfortable with processing the natural language. Now that data is cleaned and features are created, let’s jump into building some applications around it that solves the business problem in  the next seminar."
   ]
  },
  {
   "cell_type": "code",
   "execution_count": null,
   "id": "d4cbbbd2",
   "metadata": {},
   "outputs": [],
   "source": []
  }
 ],
 "metadata": {
  "kernelspec": {
   "display_name": "Python 3 (ipykernel)",
   "language": "python",
   "name": "python3"
  },
  "language_info": {
   "codemirror_mode": {
    "name": "ipython",
    "version": 3
   },
   "file_extension": ".py",
   "mimetype": "text/x-python",
   "name": "python",
   "nbconvert_exporter": "python",
   "pygments_lexer": "ipython3",
   "version": "3.10.9"
  }
 },
 "nbformat": 4,
 "nbformat_minor": 5
}
