{
 "cells": [
  {
   "cell_type": "markdown",
   "id": "02411392",
   "metadata": {},
   "source": [
    "# Python Exercise"
   ]
  },
  {
   "cell_type": "markdown",
   "id": "cc2b03f0",
   "metadata": {},
   "source": [
    "## Task 1:\n",
    "\n",
    "Write a Python program to test whether a number is within 100 of 1000 or 2000."
   ]
  },
  {
   "cell_type": "code",
   "execution_count": null,
   "id": "efe89997",
   "metadata": {},
   "outputs": [],
   "source": [
    "<YOUR CODE>"
   ]
  },
  {
   "cell_type": "markdown",
   "id": "c5705aca",
   "metadata": {},
   "source": [
    "## Task 2:\n",
    "\n",
    "Write a Python program to calculate the difference between a given number and 17. If the number is greater than 17, return twice the absolute difference."
   ]
  },
  {
   "cell_type": "code",
   "execution_count": null,
   "id": "eb52f75f",
   "metadata": {},
   "outputs": [],
   "source": [
    "<YOUR CODE>"
   ]
  },
  {
   "cell_type": "markdown",
   "id": "2bc5c194",
   "metadata": {},
   "source": [
    "## Task 3:\n",
    "\n",
    "Write a Python program to calculate the sum of three given numbers. If the values are equal, return three times their sum."
   ]
  },
  {
   "cell_type": "code",
   "execution_count": null,
   "id": "a6e55cfb",
   "metadata": {},
   "outputs": [],
   "source": [
    "<YOUR CODE>"
   ]
  },
  {
   "cell_type": "markdown",
   "id": "5bcc7b46",
   "metadata": {},
   "source": [
    "## Task 4:\n",
    "\n",
    "The cell below contains and error.\n",
    "\n",
    "- Run the cell\n",
    "- See where the error is\n",
    "- Correct the code and run it"
   ]
  },
  {
   "cell_type": "code",
   "execution_count": 1,
   "id": "538a2bd2",
   "metadata": {},
   "outputs": [
    {
     "name": "stdout",
     "output_type": "stream",
     "text": [
      "My name isJohn\n",
      "Today is my birthday\n"
     ]
    },
    {
     "ename": "TypeError",
     "evalue": "can only concatenate str (not \"int\") to str",
     "output_type": "error",
     "traceback": [
      "\u001b[0;31m---------------------------------------------------------------------------\u001b[0m",
      "\u001b[0;31mTypeError\u001b[0m                                 Traceback (most recent call last)",
      "Cell \u001b[0;32mIn[1], line 3\u001b[0m\n\u001b[1;32m      1\u001b[0m \u001b[38;5;28mprint\u001b[39m(\u001b[38;5;124m'\u001b[39m\u001b[38;5;124mMy name is\u001b[39m\u001b[38;5;124m'\u001b[39m \u001b[38;5;241m+\u001b[39m \u001b[38;5;124m'\u001b[39m\u001b[38;5;124mJohn\u001b[39m\u001b[38;5;124m'\u001b[39m)\n\u001b[1;32m      2\u001b[0m \u001b[38;5;28mprint\u001b[39m(\u001b[38;5;124m'\u001b[39m\u001b[38;5;124mToday is my birthday\u001b[39m\u001b[38;5;124m'\u001b[39m)\n\u001b[0;32m----> 3\u001b[0m \u001b[38;5;28mprint\u001b[39m(\u001b[38;5;124;43m'\u001b[39;49m\u001b[38;5;124;43mMy age is \u001b[39;49m\u001b[38;5;124;43m'\u001b[39;49m\u001b[43m \u001b[49m\u001b[38;5;241;43m+\u001b[39;49m\u001b[43m \u001b[49m\u001b[38;5;241;43m43\u001b[39;49m)\n",
      "\u001b[0;31mTypeError\u001b[0m: can only concatenate str (not \"int\") to str"
     ]
    }
   ],
   "source": [
    "print('My name is' + 'John')\n",
    "print('Today is my birthday')\n",
    "print('My age is ' + 43)"
   ]
  },
  {
   "cell_type": "code",
   "execution_count": null,
   "id": "49b44907",
   "metadata": {},
   "outputs": [],
   "source": [
    "<YOUR CODE>"
   ]
  },
  {
   "cell_type": "markdown",
   "id": "0d2b31df",
   "metadata": {},
   "source": [
    "## Task 5:\n",
    "\n",
    "Let's find out some information about Russian passport holder.\n",
    "\n",
    "The ID of Russian passports looks like this: 4612 796901, where the first two digits — an ID of the region, where it was issued. And the second pair of digits is the year, when it was issued."
   ]
  },
  {
   "cell_type": "code",
   "execution_count": null,
   "id": "df377608",
   "metadata": {},
   "outputs": [],
   "source": [
    "# Input the passport ID number, store it into `ID`\n",
    "<YOUR CODE>\n",
    "\n",
    "# Store the first two digits in the variable `region`\n",
    "<YOUR CODE>\n",
    "\n",
    "# Store the second pair of digits in the variable `year`\n",
    "<YOUR CODE>\n",
    "\n",
    "# Print the fill `ID`\n",
    "<YOUR CODE>\n",
    "\n",
    "# Print the string 'This passport was issued in', `year` variable, 'year.'\n",
    "<YOUR CODE>\n",
    "\n",
    "# Print the string 'This passport was issued in', `region` variable, 'region.'\n",
    "<YOUR CODE>"
   ]
  },
  {
   "cell_type": "markdown",
   "id": "981716ee",
   "metadata": {},
   "source": [
    "## Task 6:\n",
    "\n",
    "How to write all letters of a word seperately in one line???"
   ]
  },
  {
   "cell_type": "code",
   "execution_count": 2,
   "id": "e376bb40",
   "metadata": {},
   "outputs": [
    {
     "name": "stdout",
     "output_type": "stream",
     "text": [
      "H\n",
      "e\n",
      "l\n",
      "l\n",
      "o\n"
     ]
    }
   ],
   "source": [
    "text = \"Hello\"\n",
    "for i in text:\n",
    "    print(i)"
   ]
  },
  {
   "cell_type": "code",
   "execution_count": null,
   "id": "6708451c",
   "metadata": {},
   "outputs": [],
   "source": [
    "<YOUR CODE>"
   ]
  },
  {
   "cell_type": "markdown",
   "id": "014427d8",
   "metadata": {},
   "source": [
    "## Task 7:\n",
    "\n",
    "Let's find how much do the cake pieces weigh."
   ]
  },
  {
   "cell_type": "code",
   "execution_count": null,
   "id": "a1fe694f",
   "metadata": {},
   "outputs": [],
   "source": [
    "# input the number of pieces we need to devide and store in `a`\n",
    "<YOUR CODE>\n",
    "\n",
    "# Convert the variable `a` into the integer\n",
    "<YOUR CODE>\n",
    "\n",
    "# input how much kilos does the entire cake has (directly convert it into the float)\n",
    "<YOUR CODE>\n",
    "\n",
    "# find out how much each piece weight, put it into variable `c`\n",
    "<YOUR CODE>\n",
    "\n",
    "# glue three strings together: \"One piece is \", content of `c`, and \" kilos.\" - into variable `answer`\n",
    "<YOUR CODE>\n",
    "\n",
    "# print the result\n",
    "<YOUR CODE>"
   ]
  },
  {
   "cell_type": "markdown",
   "id": "e3fde3a1",
   "metadata": {},
   "source": [
    "## Task 9:\n",
    "\n",
    "Write a Python program which checks a text, if the length of the text is greater or equal to two, and the first two letters are \"Is\" just return the text. If not, add \"Is\" infront of the string and return the result."
   ]
  },
  {
   "cell_type": "code",
   "execution_count": null,
   "id": "f27ec954",
   "metadata": {},
   "outputs": [],
   "source": [
    "<YOUR CODE>"
   ]
  },
  {
   "cell_type": "markdown",
   "id": "cf2936c3",
   "metadata": {},
   "source": [
    "## Task 10:\n",
    "\n",
    "Write a Python program that returns a string that is n (non-negative integer) copies of a given string."
   ]
  },
  {
   "cell_type": "code",
   "execution_count": null,
   "id": "572c6389",
   "metadata": {},
   "outputs": [],
   "source": [
    "<YOUR CODE>"
   ]
  },
  {
   "cell_type": "markdown",
   "id": "5d8440c6",
   "metadata": {},
   "source": [
    "## Task 11:\n",
    "\n",
    "Write a Python program that determines whether a given number (accepted from the user) is even or odd, and prints an appropriate message to the user."
   ]
  },
  {
   "cell_type": "code",
   "execution_count": null,
   "id": "4182131f",
   "metadata": {},
   "outputs": [],
   "source": [
    "<YOUR CODE>"
   ]
  },
  {
   "cell_type": "markdown",
   "id": "0c2dc07d",
   "metadata": {},
   "source": [
    "## Task 12:\n",
    "\n",
    "Write a Python program to count the number 5 in a given list."
   ]
  },
  {
   "cell_type": "code",
   "execution_count": null,
   "id": "4c4dfaaa",
   "metadata": {},
   "outputs": [],
   "source": [
    "<YOUR CODE>"
   ]
  },
  {
   "cell_type": "markdown",
   "id": "610e52ca",
   "metadata": {},
   "source": [
    "## Task 13:\n",
    "\n",
    "Write a Python program to find the median of three values."
   ]
  },
  {
   "cell_type": "code",
   "execution_count": null,
   "id": "a07ed86b",
   "metadata": {},
   "outputs": [],
   "source": [
    "<YOUR CODE>"
   ]
  },
  {
   "cell_type": "markdown",
   "id": "cf0382b5",
   "metadata": {},
   "source": [
    "## Task 14:\n",
    "\n",
    "Write a Python program to calculate the sum and average of n integer numbers (input from the user). Input 0 to finish."
   ]
  },
  {
   "cell_type": "code",
   "execution_count": null,
   "id": "12071581",
   "metadata": {},
   "outputs": [],
   "source": [
    "<YOUR CODE>"
   ]
  },
  {
   "cell_type": "markdown",
   "id": "c561398c",
   "metadata": {},
   "source": [
    "## Task 15:\n",
    "\n",
    "Write a Python program to get the largest number from a list."
   ]
  },
  {
   "cell_type": "code",
   "execution_count": null,
   "id": "6d8cd4de",
   "metadata": {},
   "outputs": [],
   "source": [
    "<YOUR CODE>"
   ]
  },
  {
   "cell_type": "markdown",
   "id": "a389140e",
   "metadata": {},
   "source": [
    "## Task 16:\n",
    "\n",
    "Write a Python program to get the smallest number from a list."
   ]
  },
  {
   "cell_type": "code",
   "execution_count": null,
   "id": "c6cf680a",
   "metadata": {},
   "outputs": [],
   "source": [
    "<YOUR CODE>"
   ]
  },
  {
   "cell_type": "markdown",
   "id": "9cad0a01",
   "metadata": {},
   "source": [
    "## Task 17:\n",
    "\n",
    "Write a Python program to get a list, sorted in increasing order by the last element in each tuple from a given list of non-empty tuples.\n",
    "\n",
    "> Sample List : [(2, 5), (1, 2), (4, 4), (2, 3), (2, 1)]\n",
    "\n",
    "> Expected Result : [(2, 1), (1, 2), (2, 3), (4, 4), (2, 5)]"
   ]
  },
  {
   "cell_type": "code",
   "execution_count": null,
   "id": "28376b8a",
   "metadata": {},
   "outputs": [],
   "source": [
    "<YOUR CODE>"
   ]
  },
  {
   "cell_type": "markdown",
   "id": "3c60cebc",
   "metadata": {},
   "source": [
    "## Task 18:\n",
    "\n",
    "Write a Python program to remove duplicates from a list."
   ]
  },
  {
   "cell_type": "code",
   "execution_count": null,
   "id": "f440a3b9",
   "metadata": {},
   "outputs": [],
   "source": [
    "my_list = [5, 5, 10, 20, 30, 40, 5, 5, 10, 10, 70, 80, 90, 90]\n",
    "\n",
    "<YOUR CODE>"
   ]
  }
 ],
 "metadata": {
  "kernelspec": {
   "display_name": "Python 3 (ipykernel)",
   "language": "python",
   "name": "python3"
  },
  "language_info": {
   "codemirror_mode": {
    "name": "ipython",
    "version": 3
   },
   "file_extension": ".py",
   "mimetype": "text/x-python",
   "name": "python",
   "nbconvert_exporter": "python",
   "pygments_lexer": "ipython3",
   "version": "3.10.9"
  }
 },
 "nbformat": 4,
 "nbformat_minor": 5
}
