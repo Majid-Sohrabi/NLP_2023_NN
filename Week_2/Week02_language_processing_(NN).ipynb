{
 "cells": [
  {
   "cell_type": "markdown",
   "metadata": {
    "id": "68sXh0FGk6S7"
   },
   "source": [
    "# Week 2 - Language Processing and Python (NN)\n",
    "\n",
    "**Reference:** https://www.nltk.org/book/\n",
    "\n",
    "\n",
    "Address these questions:\n",
    "\n",
    "1. What can we achieve by combining simple programming techniques with large quantities of text?\n",
    "\n",
    "2. How can we automatically extract key words and phrases that sum up the style and content of a text?\n",
    "\n",
    "3. What tools and techniques does the Python programming language provide for such work?\n",
    "\n",
    "4. What are some of the interesting challenges of natural language processing?"
   ]
  },
  {
   "cell_type": "markdown",
   "metadata": {
    "id": "EEXjZyfQnYpN"
   },
   "source": [
    "# **1. Computing with Language: Texts and Words**"
   ]
  },
  {
   "cell_type": "markdown",
   "metadata": {
    "id": "MRbb8lmMnqWI"
   },
   "source": [
    "## **1.2 Getting Started with NLTK**"
   ]
  },
  {
   "cell_type": "code",
   "execution_count": null,
   "metadata": {
    "colab": {
     "base_uri": "https://localhost:8080/"
    },
    "id": "npOg9Desdw94",
    "outputId": "8becdcda-1d10-4349-819f-7622d0682345"
   },
   "outputs": [],
   "source": [
    "# !pip install nltk"
   ]
  },
  {
   "cell_type": "code",
   "execution_count": null,
   "metadata": {
    "id": "z5EJlf2QpR58"
   },
   "outputs": [],
   "source": [
    "import nltk\n",
    "\n",
    "nltk.download()"
   ]
  },
  {
   "cell_type": "code",
   "execution_count": null,
   "metadata": {
    "colab": {
     "base_uri": "https://localhost:8080/"
    },
    "id": "lLOENBk0ps9i",
    "outputId": "64e986c1-3633-4e86-fe6c-952aa091b800",
    "scrolled": false
   },
   "outputs": [],
   "source": [
    "from nltk.book import *"
   ]
  },
  {
   "cell_type": "code",
   "execution_count": null,
   "metadata": {
    "colab": {
     "base_uri": "https://localhost:8080/"
    },
    "id": "NbHEzfxdrffV",
    "outputId": "c82d73b3-30ed-486b-d7e6-37ef48d71599"
   },
   "outputs": [],
   "source": [
    "text1"
   ]
  },
  {
   "cell_type": "code",
   "execution_count": null,
   "metadata": {
    "colab": {
     "base_uri": "https://localhost:8080/"
    },
    "id": "QzJUEvU8r7BY",
    "outputId": "f06b95b6-8e75-4dc9-ff68-dd72fcf404ad"
   },
   "outputs": [],
   "source": [
    "text2"
   ]
  },
  {
   "cell_type": "markdown",
   "metadata": {
    "id": "aw43yvhmtWyY"
   },
   "source": [
    "## **1.3 Searching Text**\n",
    "\n",
    "A \"concordance\" shows us every occurrence of a given word, together with some context.\n",
    "\n",
    "A concordance permits us to see words in context."
   ]
  },
  {
   "cell_type": "code",
   "execution_count": null,
   "metadata": {
    "colab": {
     "base_uri": "https://localhost:8080/"
    },
    "id": "mGam6Z8KsBA0",
    "outputId": "4cf4ad6a-1f26-4544-f085-dd7167f9a4e6"
   },
   "outputs": [],
   "source": [
    "# We can see the word accured in contexts\n",
    "\n",
    "text1.concordance(\"monstrous\")"
   ]
  },
  {
   "cell_type": "code",
   "execution_count": null,
   "metadata": {
    "colab": {
     "base_uri": "https://localhost:8080/"
    },
    "id": "UkrtIhKnxIGS",
    "outputId": "541e2071-be09-4dc2-84b3-4c6e40e9a843"
   },
   "outputs": [],
   "source": [
    "text2.concordance(\"Affection\")"
   ]
  },
  {
   "cell_type": "code",
   "execution_count": null,
   "metadata": {
    "colab": {
     "base_uri": "https://localhost:8080/"
    },
    "id": "CDWvWvFGwdUQ",
    "outputId": "cddc30fa-00e7-4dd6-e453-45ccb7c97174"
   },
   "outputs": [],
   "source": [
    "text9.concordance(\"Affection\")"
   ]
  },
  {
   "cell_type": "markdown",
   "metadata": {},
   "source": [
    "What other words appear in a similar range of contexts?"
   ]
  },
  {
   "cell_type": "code",
   "execution_count": null,
   "metadata": {
    "colab": {
     "base_uri": "https://localhost:8080/"
    },
    "id": "qlQaU1CHwcF4",
    "outputId": "07aa127f-a51b-424a-e0a7-d79d4eeedd25"
   },
   "outputs": [],
   "source": [
    "# similar function\n",
    "\n",
    "text1.similar(\"monstrous\")"
   ]
  },
  {
   "cell_type": "code",
   "execution_count": null,
   "metadata": {
    "colab": {
     "base_uri": "https://localhost:8080/"
    },
    "id": "IP1F3T8Yx1cL",
    "outputId": "d8590c80-ff40-4c61-ad79-f02cb1b629b0"
   },
   "outputs": [],
   "source": [
    "# Different results for different texts\n",
    "text2.similar(\"monstrous\")"
   ]
  },
  {
   "cell_type": "code",
   "execution_count": null,
   "metadata": {
    "colab": {
     "base_uri": "https://localhost:8080/"
    },
    "id": "aPn4DC69yELO",
    "outputId": "e4ba165d-7ab6-4b8e-cf70-663594059794"
   },
   "outputs": [],
   "source": [
    "# common_contexts allows to examine the contxts shared by two or more words\n",
    "text2.common_contexts([\"monstrous\", \"very\"])"
   ]
  },
  {
   "cell_type": "code",
   "execution_count": null,
   "metadata": {
    "colab": {
     "base_uri": "https://localhost:8080/"
    },
    "id": "5scJJ8h8zJIH",
    "outputId": "a8c26b45-f264-489a-ec0c-5ec7ac146153"
   },
   "outputs": [],
   "source": [
    "text6.common_contexts(['affection', 'simple'])"
   ]
  },
  {
   "cell_type": "code",
   "execution_count": null,
   "metadata": {
    "colab": {
     "base_uri": "https://localhost:8080/"
    },
    "id": "D45ZmcVQzacw",
    "outputId": "2876a19f-89f1-4e23-a728-836e7e0ba57c"
   },
   "outputs": [],
   "source": [
    "text7.common_contexts(['affection', 'change'])"
   ]
  },
  {
   "cell_type": "markdown",
   "metadata": {
    "id": "lihSW9LS0iIs"
   },
   "source": [
    "\"dispersion_plot\" to see\n",
    "```\n",
    "  1. Automatically detect if the word accures in the text.\n",
    "  2. Display some words that appear in the same context.\n",
    "  3. Determine the location of a word in the text.\n",
    "  4. How many words from the beginning it appears.\n",
    "```\n",
    "\n",
    "Each stripe represents an instance of a word, and each row represents the entire text"
   ]
  },
  {
   "cell_type": "code",
   "execution_count": null,
   "metadata": {
    "colab": {
     "base_uri": "https://localhost:8080/",
     "height": 548
    },
    "id": "VIKzZfAJzjgC",
    "outputId": "b66ba51e-10c6-424f-dfde-e3f5510335fe"
   },
   "outputs": [],
   "source": [
    "import matplotlib.pyplot as plt\n",
    "import numpy as np\n",
    "\n",
    "plt.figure(figsize=(12, 6))\n",
    "\n",
    "text4.dispersion_plot([\"citizens\", \"democracy\", \"freedom\", \"duties\", \"America\", \"liberty\", \"constitution\"])\n",
    "print(\"\\nFigure. Lexical Dispersion Plot for Words in U.S. Presidential Inaugural Addresses: This can be used to investigate changes in language use over time\")"
   ]
  },
  {
   "cell_type": "markdown",
   "metadata": {
    "id": "uPrM8fol5hcy"
   },
   "source": [
    "\"generate()\"\n",
    "\n",
    "Generating a random text.\n",
    "\n",
    "``` The generate() method is not available in NLTK 3.0 but will be reinstated in a subsequent version. ```"
   ]
  },
  {
   "cell_type": "code",
   "execution_count": null,
   "metadata": {
    "colab": {
     "base_uri": "https://localhost:8080/",
     "height": 209
    },
    "id": "Q4sbfK7j0g_h",
    "outputId": "a88d5ec3-ca0f-4ce2-e1a7-e228b7e6af1b"
   },
   "outputs": [],
   "source": [
    "text3.generate()"
   ]
  },
  {
   "cell_type": "markdown",
   "metadata": {
    "id": "BeNgPVOw564N"
   },
   "source": [
    "## **1.4 Counting Vocabulary**\n",
    "\n",
    "- Length of a text from start to finish, in terms of the words and punctuation symbols that appear - (tokens)\n",
    "\n",
    "- Token is the technical name for a sequence of characters - such as hairy, his, or ... that we want to treat as a group\n",
    "\n",
    "- When we count the number of tokens in a text, say, the phrase \"**to be or not to be**\", we are counting occurrences of these sequences. Thus, in our example phrase there are two occurrences of **to**, two of **be**, and one each of **or** and **not**. But there are only four distinct vocabulary items in this phrase\n"
   ]
  },
  {
   "cell_type": "code",
   "execution_count": null,
   "metadata": {
    "colab": {
     "base_uri": "https://localhost:8080/"
    },
    "id": "42EWIE0f5lqY",
    "outputId": "24c4a862-ca99-404a-9b04-3da3d29ae98a",
    "scrolled": true
   },
   "outputs": [],
   "source": [
    "len(text3)"
   ]
  },
  {
   "cell_type": "markdown",
   "metadata": {
    "id": "CL-HhA7HCcCh"
   },
   "source": [
    "- How many distinct words does the book of Genesis contain?"
   ]
  },
  {
   "cell_type": "code",
   "execution_count": null,
   "metadata": {
    "colab": {
     "base_uri": "https://localhost:8080/"
    },
    "id": "XcSejk3MChXn",
    "outputId": "08303048-d8aa-4d66-f138-50ee22a92642"
   },
   "outputs": [],
   "source": [
    "sorted(set(text3))"
   ]
  },
  {
   "cell_type": "code",
   "execution_count": null,
   "metadata": {
    "colab": {
     "base_uri": "https://localhost:8080/"
    },
    "id": "p4pjB3gpCz-e",
    "outputId": "aa2a2d52-69c3-4bb6-bcd0-078c62cd4809"
   },
   "outputs": [],
   "source": [
    "len(set(text3))"
   ]
  },
  {
   "cell_type": "markdown",
   "metadata": {
    "id": "x9fDncRAGm7f"
   },
   "source": [
    "- Now, let's calculate a measure of the lexical richness of the text. The next example shows us that the number of distinct words is just 6% of the total number of words, or equivalently that each word is used 16 times on average (16 * 2789 = 44624 ~ 44764)"
   ]
  },
  {
   "cell_type": "code",
   "execution_count": null,
   "metadata": {
    "colab": {
     "base_uri": "https://localhost:8080/"
    },
    "id": "4Q8eVicDEc0F",
    "outputId": "e42a78ed-579e-46e7-baa9-c766ac6b0d62",
    "scrolled": true
   },
   "outputs": [],
   "source": [
    "len(set(text3)) / len(text3)"
   ]
  },
  {
   "cell_type": "markdown",
   "metadata": {
    "id": "OtS7dY0jJszb"
   },
   "source": [
    "- Let's consider a single word.\n",
    "  1. Counting how often a word accures in text.\n",
    "  2. What percentage of the text is taken up by a specific word."
   ]
  },
  {
   "cell_type": "code",
   "execution_count": null,
   "metadata": {
    "colab": {
     "base_uri": "https://localhost:8080/"
    },
    "id": "K5jTWExdJHlG",
    "outputId": "5e839727-f11f-4884-fe13-44488f9a37f8"
   },
   "outputs": [],
   "source": [
    "text3.count(\"smote\")"
   ]
  },
  {
   "cell_type": "code",
   "execution_count": null,
   "metadata": {
    "colab": {
     "base_uri": "https://localhost:8080/"
    },
    "id": "5ilzkAZoKJv2",
    "outputId": "f4094b7f-b900-490b-ce78-3878663869d2",
    "scrolled": true
   },
   "outputs": [],
   "source": [
    "100 * text4.count('a') / len(text4)"
   ]
  },
  {
   "cell_type": "code",
   "execution_count": null,
   "metadata": {
    "colab": {
     "base_uri": "https://localhost:8080/"
    },
    "id": "Qb4-4DjpKkDL",
    "outputId": "f5e3ec83-68fe-46e2-ff67-09e8e9700bdd",
    "scrolled": false
   },
   "outputs": [],
   "source": [
    "print(text5.count(\"lol\"))\n",
    "print(100 * text5.count('lol') / len(text5))"
   ]
  },
  {
   "cell_type": "markdown",
   "metadata": {
    "id": "ZGJ1mkqiOTF_"
   },
   "source": [
    " - How to prevent tedious coding?"
   ]
  },
  {
   "cell_type": "code",
   "execution_count": null,
   "metadata": {
    "id": "0VqeVYQYKyb0"
   },
   "outputs": [],
   "source": [
    "def lexical_diversity(text):\n",
    "    return len(set(text)) / len(text)\n",
    "\n",
    "def percentage(count, total):\n",
    "    return 100 * count / total"
   ]
  },
  {
   "cell_type": "code",
   "execution_count": null,
   "metadata": {
    "colab": {
     "base_uri": "https://localhost:8080/"
    },
    "id": "xtHOXC51O6CY",
    "outputId": "3dfa13a3-8fae-4a3a-ba17-c8927399a158"
   },
   "outputs": [],
   "source": [
    "lexical_diversity(text3)"
   ]
  },
  {
   "cell_type": "code",
   "execution_count": null,
   "metadata": {
    "colab": {
     "base_uri": "https://localhost:8080/"
    },
    "id": "Mz3WJ0QJSrSz",
    "outputId": "8a4c7dbc-2a41-4bcd-ec40-684e3ad9b541"
   },
   "outputs": [],
   "source": [
    "lexical_diversity(text5)"
   ]
  },
  {
   "cell_type": "code",
   "execution_count": null,
   "metadata": {
    "colab": {
     "base_uri": "https://localhost:8080/"
    },
    "id": "wAWTj3y6Ss8B",
    "outputId": "9b5da54e-fa98-4342-facb-7de9aac0459f"
   },
   "outputs": [],
   "source": [
    "percentage(text4.count('a'), len(text4))"
   ]
  },
  {
   "cell_type": "markdown",
   "metadata": {
    "id": "W0oWm68_6UjQ"
   },
   "source": [
    "# **2. A Closer Look at Python: Texts as Lists of Words**"
   ]
  },
  {
   "cell_type": "markdown",
   "metadata": {
    "id": "nvoJ1xww6xRI"
   },
   "source": [
    "## **2.1 Lists**"
   ]
  },
  {
   "cell_type": "code",
   "execution_count": null,
   "metadata": {
    "id": "RhLwI7mP6Z2R"
   },
   "outputs": [],
   "source": [
    "sent1 = ['Call', 'me', 'Ishmael', '.']"
   ]
  },
  {
   "cell_type": "code",
   "execution_count": null,
   "metadata": {
    "colab": {
     "base_uri": "https://localhost:8080/"
    },
    "id": "SzFMM3R2T3Wp",
    "outputId": "f696d16d-5140-4ea2-edb6-60de98b193e9"
   },
   "outputs": [],
   "source": [
    "len(sent1)"
   ]
  },
  {
   "cell_type": "code",
   "execution_count": null,
   "metadata": {
    "colab": {
     "base_uri": "https://localhost:8080/"
    },
    "id": "SPs70HwiT6CG",
    "outputId": "e3536179-efc6-4acd-ae15-81a753ee49f9"
   },
   "outputs": [],
   "source": [
    "lexical_diversity(sent1)"
   ]
  },
  {
   "cell_type": "code",
   "execution_count": null,
   "metadata": {
    "colab": {
     "base_uri": "https://localhost:8080/"
    },
    "id": "DiVZIYEST7v7",
    "outputId": "1df805a6-a6a2-40de-f470-ba89c5986273"
   },
   "outputs": [],
   "source": [
    "sent2"
   ]
  },
  {
   "cell_type": "code",
   "execution_count": null,
   "metadata": {
    "colab": {
     "base_uri": "https://localhost:8080/"
    },
    "id": "OpXJ8jEGUUOO",
    "outputId": "d1f7cd4c-8973-4874-ee92-43fca1dc6aa6"
   },
   "outputs": [],
   "source": [
    "sent3"
   ]
  },
  {
   "cell_type": "markdown",
   "metadata": {
    "id": "SikRC9WSU-1X"
   },
   "source": [
    "- How to merge two lists together in python?"
   ]
  },
  {
   "cell_type": "code",
   "execution_count": null,
   "metadata": {
    "colab": {
     "base_uri": "https://localhost:8080/"
    },
    "id": "OxmI15sIU8Lw",
    "outputId": "a8a26662-92c9-4412-e4d0-b870fd520264"
   },
   "outputs": [],
   "source": [
    "['Monty', 'Python']"
   ]
  },
  {
   "cell_type": "code",
   "execution_count": null,
   "metadata": {
    "colab": {
     "base_uri": "https://localhost:8080/"
    },
    "id": "BD8S0X4HU8IL",
    "outputId": "958f7867-23d1-47db-f511-169d29f7624e"
   },
   "outputs": [],
   "source": [
    "['and', 'the', 'Holy', 'Grail']"
   ]
  },
  {
   "cell_type": "code",
   "execution_count": null,
   "metadata": {
    "colab": {
     "base_uri": "https://localhost:8080/"
    },
    "id": "tyX0q77VUZln",
    "outputId": "30af4c23-25a3-4141-e0cf-cd4609ccf3ed",
    "scrolled": true
   },
   "outputs": [],
   "source": [
    "['Monty', 'Python'] + ['and', 'the', 'Holy', 'Grail']"
   ]
  },
  {
   "cell_type": "code",
   "execution_count": null,
   "metadata": {
    "colab": {
     "base_uri": "https://localhost:8080/"
    },
    "id": "pev5iG18U6os",
    "outputId": "4188edbd-c1b2-4334-9692-9501d72461d3"
   },
   "outputs": [],
   "source": [
    "sent4 + sent1"
   ]
  },
  {
   "cell_type": "markdown",
   "metadata": {
    "id": "SZPcJ5LxVnBO"
   },
   "source": [
    "- What if we want to add a simple item to the list?"
   ]
  },
  {
   "cell_type": "code",
   "execution_count": null,
   "metadata": {
    "colab": {
     "base_uri": "https://localhost:8080/"
    },
    "id": "SCnQs26eVgRf",
    "outputId": "fa611d40-2fde-4632-cfb6-12905b6d5e41"
   },
   "outputs": [],
   "source": [
    "sent1.append(\"some\")\n",
    "sent1"
   ]
  },
  {
   "cell_type": "markdown",
   "metadata": {
    "id": "LxYy0o55V037"
   },
   "source": [
    "## **2.2 Indexing Lists**\n",
    "\n",
    "- How to pick out the 1st, 173rd, or even 14,278th word in a printed text?\n",
    "\n",
    "We can access to every word in the text with their **Index**"
   ]
  },
  {
   "cell_type": "code",
   "execution_count": null,
   "metadata": {
    "colab": {
     "base_uri": "https://localhost:8080/",
     "height": 36
    },
    "id": "9CjBE05XVu50",
    "outputId": "71a95995-2490-4f75-c834-d905714b85bc",
    "scrolled": true
   },
   "outputs": [],
   "source": [
    "text4[173]"
   ]
  },
  {
   "cell_type": "markdown",
   "metadata": {
    "id": "NvayMFIWX_EF"
   },
   "source": [
    "- What about in reverse? (Giving the word and returning the index)"
   ]
  },
  {
   "cell_type": "code",
   "execution_count": null,
   "metadata": {
    "colab": {
     "base_uri": "https://localhost:8080/"
    },
    "id": "dk8uQv-yX8sa",
    "outputId": "99869b12-5951-4839-ffea-d49d20f800de",
    "scrolled": true
   },
   "outputs": [],
   "source": [
    "text4.index('awaken')"
   ]
  },
  {
   "cell_type": "markdown",
   "metadata": {},
   "source": [
    "### Task 1:"
   ]
  },
  {
   "cell_type": "code",
   "execution_count": null,
   "metadata": {},
   "outputs": [],
   "source": [
    "# What if we want to find all indexes of a target word?\n",
    "\n",
    "def find_indices(text4, word):\n",
    "    list_ = []\n",
    "    for index, w in enumerate(text4):\n",
    "        if w == word:\n",
    "            list_.append(index)\n",
    "    return list_"
   ]
  },
  {
   "cell_type": "code",
   "execution_count": null,
   "metadata": {},
   "outputs": [],
   "source": [
    "print(find_indices(text4, 'Smote'))"
   ]
  },
  {
   "cell_type": "code",
   "execution_count": null,
   "metadata": {},
   "outputs": [],
   "source": [
    "print(find_indices(text4, 'This'))"
   ]
  },
  {
   "cell_type": "markdown",
   "metadata": {
    "id": "8IrsY2MeYQKT"
   },
   "source": [
    "Indexes are common way to access the words of a text, more generally, the elements of any list.\n",
    "- How to access the range of elements in python list? (start index to  end index\n",
    ")"
   ]
  },
  {
   "cell_type": "code",
   "execution_count": null,
   "metadata": {
    "colab": {
     "base_uri": "https://localhost:8080/"
    },
    "id": "677sG8IEX-i2",
    "outputId": "7e0cc949-4dfe-4a62-8f63-8b06f854942c"
   },
   "outputs": [],
   "source": [
    "text5[16715:16735]"
   ]
  },
  {
   "cell_type": "code",
   "execution_count": null,
   "metadata": {
    "colab": {
     "base_uri": "https://localhost:8080/"
    },
    "id": "ShQU3fgHYoQW",
    "outputId": "a4bc754d-33f8-480f-99f5-0669780f6ab3"
   },
   "outputs": [],
   "source": [
    "text6[1600:1625]"
   ]
  },
  {
   "cell_type": "code",
   "execution_count": null,
   "metadata": {
    "id": "fBX8GAk2YpnT"
   },
   "outputs": [],
   "source": [
    "sent = ['word1', 'word2', 'word3', 'word4', 'word5', 'word6', 'word7', 'word8', 'word9', 'word10']"
   ]
  },
  {
   "cell_type": "code",
   "execution_count": null,
   "metadata": {
    "colab": {
     "base_uri": "https://localhost:8080/",
     "height": 36
    },
    "id": "tGfv9t5cY_-E",
    "outputId": "3f5def53-c439-42f1-babc-ed47f5a999d2"
   },
   "outputs": [],
   "source": [
    "sent[0]"
   ]
  },
  {
   "cell_type": "code",
   "execution_count": null,
   "metadata": {
    "colab": {
     "base_uri": "https://localhost:8080/",
     "height": 36
    },
    "id": "MeoN8o4vZA9E",
    "outputId": "7a624ad8-8e11-4271-e804-0d729f1e805d"
   },
   "outputs": [],
   "source": [
    "sent[9]"
   ]
  },
  {
   "cell_type": "markdown",
   "metadata": {
    "id": "LU54Z4a2ZR8O"
   },
   "source": [
    "- Python list is zero based"
   ]
  },
  {
   "cell_type": "code",
   "execution_count": null,
   "metadata": {
    "colab": {
     "base_uri": "https://localhost:8080/",
     "height": 166
    },
    "id": "kAXpvTZMZMv3",
    "outputId": "6be8af4a-036c-40d9-9e65-48692c406115"
   },
   "outputs": [],
   "source": [
    "sent[10]"
   ]
  },
  {
   "cell_type": "markdown",
   "metadata": {
    "id": "sjkV7FIXaH6O"
   },
   "source": [
    "- Let's take a look at slicing in our sentence. 5:8 indicates sent elements at indexes 5, 6, 7"
   ]
  },
  {
   "cell_type": "code",
   "execution_count": null,
   "metadata": {
    "colab": {
     "base_uri": "https://localhost:8080/"
    },
    "id": "bbdG3WIIZN8C",
    "outputId": "ffedefae-782f-42ba-dbf1-c3feeea08fb8"
   },
   "outputs": [],
   "source": [
    "sent[5:8]"
   ]
  },
  {
   "cell_type": "code",
   "execution_count": null,
   "metadata": {
    "colab": {
     "base_uri": "https://localhost:8080/",
     "height": 36
    },
    "id": "XskzceZyaDzW",
    "outputId": "43ac043e-8c00-4894-f0cb-c7f8b0eaf1df"
   },
   "outputs": [],
   "source": [
    "sent[5]"
   ]
  },
  {
   "cell_type": "code",
   "execution_count": null,
   "metadata": {
    "colab": {
     "base_uri": "https://localhost:8080/",
     "height": 36
    },
    "id": "C-tJwwStaFLk",
    "outputId": "470c221a-8199-4b34-dd8c-3ae4d3bf3c1a"
   },
   "outputs": [],
   "source": [
    "sent[6]"
   ]
  },
  {
   "cell_type": "code",
   "execution_count": null,
   "metadata": {
    "colab": {
     "base_uri": "https://localhost:8080/",
     "height": 36
    },
    "id": "KXwChhc6aGRU",
    "outputId": "0995a4d7-e404-4e69-a8bb-cd63d5b05920"
   },
   "outputs": [],
   "source": [
    "sent[7]"
   ]
  },
  {
   "cell_type": "markdown",
   "metadata": {
    "id": "F1AFfl6gai12"
   },
   "source": [
    "- By convention, m:n means elements m, …, n-1\n",
    "\n",
    "  1. As another example if we want to start fom beginning, we can eliminate the start poin\n",
    "\n",
    "  2. We can omit the second number if we slice to the end"
   ]
  },
  {
   "cell_type": "code",
   "execution_count": null,
   "metadata": {
    "colab": {
     "base_uri": "https://localhost:8080/"
    },
    "id": "lnSxKk_daHbl",
    "outputId": "29729089-0aca-40ad-ad17-0599165f91fc"
   },
   "outputs": [],
   "source": [
    "sent[:3]"
   ]
  },
  {
   "cell_type": "code",
   "execution_count": null,
   "metadata": {
    "colab": {
     "base_uri": "https://localhost:8080/"
    },
    "id": "gWWEXBKMbHqX",
    "outputId": "5cb709fc-2067-4f62-e08e-5772781738a4"
   },
   "outputs": [],
   "source": [
    "text2[141525:]"
   ]
  },
  {
   "cell_type": "markdown",
   "metadata": {
    "id": "FiE-68OtcvFO"
   },
   "source": [
    "- Let's modify some elements of the list by assigning the one of it's index values."
   ]
  },
  {
   "cell_type": "code",
   "execution_count": null,
   "metadata": {
    "id": "_rhNXRmBbJCT"
   },
   "outputs": [],
   "source": [
    "sent[0] = 'First'"
   ]
  },
  {
   "cell_type": "code",
   "execution_count": null,
   "metadata": {
    "id": "Rg3I06qZdJEw"
   },
   "outputs": [],
   "source": [
    "sent[9] = 'Last'"
   ]
  },
  {
   "cell_type": "code",
   "execution_count": null,
   "metadata": {
    "colab": {
     "base_uri": "https://localhost:8080/"
    },
    "id": "7NwRKiptdM9k",
    "outputId": "7d878fbc-300c-4afa-d424-2b6c6ec1d858"
   },
   "outputs": [],
   "source": [
    "sent"
   ]
  },
  {
   "cell_type": "code",
   "execution_count": null,
   "metadata": {
    "colab": {
     "base_uri": "https://localhost:8080/"
    },
    "id": "nopdOXlGdJCT",
    "outputId": "a1305538-1d67-4b98-a9fb-79ea158ed29f"
   },
   "outputs": [],
   "source": [
    "len(sent)"
   ]
  },
  {
   "cell_type": "code",
   "execution_count": null,
   "metadata": {
    "colab": {
     "base_uri": "https://localhost:8080/"
    },
    "id": "py_u3_v1dONZ",
    "outputId": "e94c24f0-3130-4ebd-efc4-5d27f9275636"
   },
   "outputs": [],
   "source": [
    "sent[1:9] = ['Second', 'Third']\n",
    "sent"
   ]
  },
  {
   "cell_type": "code",
   "execution_count": null,
   "metadata": {
    "colab": {
     "base_uri": "https://localhost:8080/",
     "height": 166
    },
    "id": "aHdWNe8gdOLC",
    "outputId": "3340d864-ca50-4989-a49f-6588efaf7205"
   },
   "outputs": [],
   "source": [
    "sent[9]"
   ]
  },
  {
   "cell_type": "markdown",
   "metadata": {
    "id": "KZfXcesubLPE"
   },
   "source": [
    "## **2.3 Variables**\n",
    "\n",
    "- *variable = expression*"
   ]
  },
  {
   "cell_type": "code",
   "execution_count": null,
   "metadata": {
    "id": "yEBvx3BObNjK"
   },
   "outputs": [],
   "source": [
    "sent1 = ['Call', 'me', 'Ishmael', '.']"
   ]
  },
  {
   "cell_type": "code",
   "execution_count": null,
   "metadata": {
    "id": "TlS6Wg3xk4lY"
   },
   "outputs": [],
   "source": [
    "my_sent = ['Bravely', 'bold', 'Sir', 'Robin', ',', 'rode',\n",
    "... 'forth', 'from', 'Camelot', '.']"
   ]
  },
  {
   "cell_type": "code",
   "execution_count": null,
   "metadata": {
    "id": "WMLQde4zk58x"
   },
   "outputs": [],
   "source": [
    "noun_phrase = my_sent[1:4]"
   ]
  },
  {
   "cell_type": "code",
   "execution_count": null,
   "metadata": {
    "colab": {
     "base_uri": "https://localhost:8080/"
    },
    "id": "nu6nDd28k691",
    "outputId": "0cccc085-406b-4a4c-9b00-4ebd08f45eaf"
   },
   "outputs": [],
   "source": [
    "noun_phrase"
   ]
  },
  {
   "cell_type": "code",
   "execution_count": null,
   "metadata": {
    "id": "YeYdqH3Ak7_N"
   },
   "outputs": [],
   "source": [
    "wOrDs = sorted(noun_phrase)"
   ]
  },
  {
   "cell_type": "code",
   "execution_count": null,
   "metadata": {
    "colab": {
     "base_uri": "https://localhost:8080/"
    },
    "id": "Sdhu5Hcuk89Y",
    "outputId": "5a5b4c37-5df2-4970-d156-0b41e122a458"
   },
   "outputs": [],
   "source": [
    "wOrDs"
   ]
  },
  {
   "cell_type": "markdown",
   "metadata": {
    "id": "ur6-P-Apl2fN"
   },
   "source": [
    "- Don't use the reserved words for variables"
   ]
  },
  {
   "cell_type": "code",
   "execution_count": null,
   "metadata": {
    "colab": {
     "base_uri": "https://localhost:8080/",
     "height": 131
    },
    "id": "iSx_YXIjk-WM",
    "outputId": "847b4e0b-efee-4423-ada7-5465702d4950"
   },
   "outputs": [],
   "source": [
    "not = 'Camelot'"
   ]
  },
  {
   "cell_type": "markdown",
   "metadata": {
    "id": "7f9h-DSEmpVy"
   },
   "source": [
    "\n",
    "Caution!\n",
    "\n",
    "  - Take care with your choice of names (or identifiers) for Python variables. First, you should start the name with a letter, optionally followed by digits (0 to 9) or letters. Thus, abc23 is fine, but 23abc will cause a syntax error. Names are case-sensitive, which means that myVar and myvar are distinct variables. Variable names cannot contain whitespace, but you can separate words using an underscore, e.g., my_var. Be careful not to insert a hyphen instead of an underscore: my-var is wrong, since Python interprets the \"-\" as a minus sign.\n"
   ]
  },
  {
   "cell_type": "markdown",
   "metadata": {
    "id": "9f9yrn60l9Ql"
   },
   "source": [
    "## **2.4 Strings**\n",
    "\n",
    "  1. We can assign a string to a variable\n",
    "  2. Index a string\n",
    "  3. Slice a string"
   ]
  },
  {
   "cell_type": "code",
   "execution_count": null,
   "metadata": {
    "id": "HB8NWSfSmAef"
   },
   "outputs": [],
   "source": [
    "name = 'Monty'"
   ]
  },
  {
   "cell_type": "code",
   "execution_count": null,
   "metadata": {
    "colab": {
     "base_uri": "https://localhost:8080/",
     "height": 36
    },
    "id": "CEO_fuwGoSLm",
    "outputId": "16649efe-1efd-4e37-df1d-e86988869e39"
   },
   "outputs": [],
   "source": [
    "name[0]"
   ]
  },
  {
   "cell_type": "code",
   "execution_count": null,
   "metadata": {
    "colab": {
     "base_uri": "https://localhost:8080/",
     "height": 36
    },
    "id": "K8Y2n6tCoTPL",
    "outputId": "ca9766ce-1467-4c47-a2de-c1f8b83685c3"
   },
   "outputs": [],
   "source": [
    "name[:4]"
   ]
  },
  {
   "cell_type": "markdown",
   "metadata": {
    "id": "bQSxVBEEobT6"
   },
   "source": [
    "- We can also do multiplication with our string"
   ]
  },
  {
   "cell_type": "code",
   "execution_count": null,
   "metadata": {
    "colab": {
     "base_uri": "https://localhost:8080/",
     "height": 36
    },
    "id": "lr8UcHfBoUeV",
    "outputId": "119e6d0a-e77c-4e1a-b556-caa2262a3128"
   },
   "outputs": [],
   "source": [
    "name * 2"
   ]
  },
  {
   "cell_type": "code",
   "execution_count": null,
   "metadata": {
    "colab": {
     "base_uri": "https://localhost:8080/",
     "height": 36
    },
    "id": "e1FEjW0yoYkr",
    "outputId": "67076ba3-f106-4034-8756-f8aa77f6af6c"
   },
   "outputs": [],
   "source": [
    "name + '?'"
   ]
  },
  {
   "cell_type": "markdown",
   "metadata": {
    "id": "H-37ZrHoorjD"
   },
   "source": [
    "- We can join the words of a list to make a single string, or split a string into a list, as follows:"
   ]
  },
  {
   "cell_type": "code",
   "execution_count": null,
   "metadata": {
    "colab": {
     "base_uri": "https://localhost:8080/",
     "height": 36
    },
    "id": "k5RVonh4oahs",
    "outputId": "1b9b940a-b816-4edf-8791-ffa1e68bc12c"
   },
   "outputs": [],
   "source": [
    "' '.join(['Monty', 'Python'])"
   ]
  },
  {
   "cell_type": "code",
   "execution_count": null,
   "metadata": {
    "colab": {
     "base_uri": "https://localhost:8080/"
    },
    "id": "Q1XrzAzVow1q",
    "outputId": "5bbafe4b-a90d-45c2-8af0-27c0d74abdca"
   },
   "outputs": [],
   "source": [
    "'Monty Python'.split()"
   ]
  },
  {
   "cell_type": "markdown",
   "metadata": {
    "id": "TMGlrhkto41T"
   },
   "source": [
    "# **3. Computing with Language: Simple Statistics**\n",
    "\n",
    "  1. What makes a text distinct\n",
    "  2. Use automatic methods to find characteristic words and expressions of a text"
   ]
  },
  {
   "cell_type": "code",
   "execution_count": null,
   "metadata": {
    "id": "hJnnBW3Gox9O"
   },
   "outputs": [],
   "source": [
    "# Simple test\n",
    "\n",
    "saying = ['After', 'all', 'is', 'said', 'and', 'done', 'more', 'is', 'said', 'than', 'done']\n",
    "\n",
    "tokens = set(saying)\n",
    "tokens = sorted(tokens)\n",
    "tokens[-2:]"
   ]
  },
  {
   "cell_type": "markdown",
   "metadata": {
    "id": "ggDpNmFDqgDV"
   },
   "source": [
    "## **3.1 Frequency Distributions**\n",
    "\n",
    "  - How can we automatically identify the words of a text that are most informative about the topic and genre of the text?\n",
    "\n",
    "Imagine how you might go about finding the 50 most frequent words of a book.\n",
    "\n",
    "Let's use a FreqDist to find the 50 most frequent words of *Moby Dick*:"
   ]
  },
  {
   "cell_type": "code",
   "execution_count": null,
   "metadata": {
    "colab": {
     "base_uri": "https://localhost:8080/"
    },
    "id": "i1CsB3GaqHbk",
    "outputId": "b0ec3df0-89cc-4f94-a822-f5dd40c56f59"
   },
   "outputs": [],
   "source": [
    "fdist1 = FreqDist(text1)\n",
    "print(fdist1)"
   ]
  },
  {
   "cell_type": "code",
   "execution_count": null,
   "metadata": {
    "colab": {
     "base_uri": "https://localhost:8080/"
    },
    "id": "cgrf7wZitOrk",
    "outputId": "399eebdd-0c74-4a3d-80ea-de62ddcf0566"
   },
   "outputs": [],
   "source": [
    "fdist1.most_common(50)"
   ]
  },
  {
   "cell_type": "markdown",
   "metadata": {
    "id": "vqEbQCXkvS6V"
   },
   "source": [
    "- The more informative word for the topic is whale (No. whale ~ 900)\n",
    "- Other words are English \"plumbing\""
   ]
  },
  {
   "cell_type": "code",
   "execution_count": null,
   "metadata": {
    "colab": {
     "base_uri": "https://localhost:8080/"
    },
    "id": "MsvCZGmetTeo",
    "outputId": "8d66f455-3cae-4d83-b491-0f3f3db704ec"
   },
   "outputs": [],
   "source": [
    "fdist1['whale']"
   ]
  },
  {
   "cell_type": "markdown",
   "metadata": {
    "id": "7L9puWPowjTy"
   },
   "source": [
    "- Generate a cumulative frequency plot for these words\n",
    "- These 50 words account for nearly half the book!"
   ]
  },
  {
   "cell_type": "code",
   "execution_count": null,
   "metadata": {
    "colab": {
     "base_uri": "https://localhost:8080/",
     "height": 533
    },
    "id": "_nPxkMd-wUD7",
    "outputId": "98774256-db24-4bc1-94f2-ebf7d96fba94"
   },
   "outputs": [],
   "source": [
    "plt.figure(figsize=(12, 6))\n",
    "\n",
    "fdist1.plot(50, cumulative=True)"
   ]
  },
  {
   "cell_type": "markdown",
   "metadata": {
    "id": "F69q3pUOxOZv"
   },
   "source": [
    "- What if we want to find the words that accured once? (**hapaxes**)\n",
    "\n",
    "They are rare words, how can we guess the meaning of these words without seeing the context???!!!"
   ]
  },
  {
   "cell_type": "code",
   "execution_count": null,
   "metadata": {
    "colab": {
     "base_uri": "https://localhost:8080/"
    },
    "id": "Tf061xVPxM72",
    "outputId": "354721b2-7e61-4532-a69f-65940a9843d3"
   },
   "outputs": [],
   "source": [
    "fdist1.hapaxes()"
   ]
  },
  {
   "cell_type": "code",
   "execution_count": null,
   "metadata": {
    "colab": {
     "base_uri": "https://localhost:8080/"
    },
    "id": "coV5nuoiuMck",
    "outputId": "70b4ddc3-d422-4873-ebcc-494084ad7c25"
   },
   "outputs": [],
   "source": [
    "fdist2 = FreqDist(text2)\n",
    "fdist2"
   ]
  },
  {
   "cell_type": "code",
   "execution_count": null,
   "metadata": {
    "colab": {
     "base_uri": "https://localhost:8080/"
    },
    "id": "onZx-EVKuMZZ",
    "outputId": "599be851-b406-4c80-9def-d1a212d48f44"
   },
   "outputs": [],
   "source": [
    "fdist2.most_common(50)"
   ]
  },
  {
   "cell_type": "markdown",
   "metadata": {
    "id": "tv1jatJbvk2g"
   },
   "source": [
    "- The more informative word for the topic is Elinor (No. Elinor ~ 680)\n",
    "- Second more informative word for the topic is Marianne (No. Marianne ~ 560)\n",
    "- Other words are English \"plumbing\""
   ]
  },
  {
   "cell_type": "code",
   "execution_count": null,
   "metadata": {
    "colab": {
     "base_uri": "https://localhost:8080/"
    },
    "id": "Ff_dAPIsuYpY",
    "outputId": "1a26d9f4-7aad-4db4-fd6d-df7777e54aad"
   },
   "outputs": [],
   "source": [
    "fdist2['Elinor']"
   ]
  },
  {
   "cell_type": "code",
   "execution_count": null,
   "metadata": {
    "colab": {
     "base_uri": "https://localhost:8080/"
    },
    "id": "PmNdBh8TwHC7",
    "outputId": "613bc838-1a8e-404c-eaa7-35e21e4055b4"
   },
   "outputs": [],
   "source": [
    "fdist2['Marianne']"
   ]
  },
  {
   "cell_type": "markdown",
   "metadata": {
    "id": "_rUUEt_twfwk"
   },
   "source": [
    "- Generate a cumulative frequency plot for these words"
   ]
  },
  {
   "cell_type": "code",
   "execution_count": null,
   "metadata": {
    "colab": {
     "base_uri": "https://localhost:8080/",
     "height": 551
    },
    "id": "s8YiL0BWwWqs",
    "outputId": "d9eaf553-bf41-498b-da02-3bf3f33e4176"
   },
   "outputs": [],
   "source": [
    "plt.figure(figsize=(14, 8))\n",
    "\n",
    "fdist2.plot(50, cumulative=True)"
   ]
  },
  {
   "cell_type": "markdown",
   "metadata": {
    "id": "bElp_D76tapY"
   },
   "source": [
    "## **3.2 Fine-grained Selection of Words**\n",
    "\n",
    "- How to find the long words in text?\n",
    "\n",
    "Let's see words which has length > 15"
   ]
  },
  {
   "cell_type": "code",
   "execution_count": null,
   "metadata": {
    "colab": {
     "base_uri": "https://localhost:8080/"
    },
    "id": "sfpsUOmCtXkw",
    "outputId": "8e83ba33-890f-4451-c6d8-38fa4e6aacf6"
   },
   "outputs": [],
   "source": [
    "V = set(text1)\n",
    "long_words = [w for w in V if len(w) > 15]\n",
    "sorted(long_words)"
   ]
  },
  {
   "cell_type": "markdown",
   "metadata": {
    "id": "hL2RpVfVgWMR"
   },
   "source": [
    "- Find **frequently occuring long words**\n",
    "\n",
    "It eliminates frequent short words (e.g., the) and infrequent long words (e.g. antiphilosophists).\n",
    "\n",
    "Notice how we have used two conditions: len(w) > 7 ensures that the words are longer than seven letters, and fdist5[w] > 7 ensures that these words occur more than seven times."
   ]
  },
  {
   "cell_type": "code",
   "execution_count": null,
   "metadata": {
    "colab": {
     "base_uri": "https://localhost:8080/"
    },
    "id": "7FLwkjhrf9ib",
    "outputId": "5be4bf1f-c521-4c40-b03e-2e23af7f41e3"
   },
   "outputs": [],
   "source": [
    "fdist5 = FreqDist(text5)\n",
    "sorted(w for w in set(text5) if len(w) > 7 and fdist5[w] > 7)"
   ]
  },
  {
   "cell_type": "markdown",
   "metadata": {
    "id": "KlZ7c98-h5QO"
   },
   "source": [
    "## **3.3 Collocations and Bigrams**\n",
    "\n",
    "- A \"**collocation**\" is a sequence of words that occur together unusually often. (eg. *red wine*)\n",
    "\n",
    "- A characteristic of collocations is that they are resistant to substitution with words that have similar senses; for example, maroon wine sounds definitely odd."
   ]
  },
  {
   "cell_type": "code",
   "execution_count": null,
   "metadata": {
    "colab": {
     "base_uri": "https://localhost:8080/"
    },
    "id": "IV_NpgPShX1Z",
    "outputId": "06267ea6-c164-4fd1-fa33-50b89c35ec43"
   },
   "outputs": [],
   "source": [
    "# Start off by extracting from a text a list of word pairs, also known as bigrams\n",
    "# This is easily accomplished with the function bigrams().\n",
    "\n",
    "list(bigrams(['more', 'is', 'said', 'than', 'done']))"
   ]
  },
  {
   "cell_type": "markdown",
   "metadata": {
    "id": "pgE00nnAjdFw"
   },
   "source": [
    "Now, collocations are essentially just frequent bigrams, except that we want to pay more attention to the cases that involve rare words. In particular, we want to find bigrams that occur more often than we would expect based on the frequency of the individual words. The collocations() function does this for us."
   ]
  },
  {
   "cell_type": "code",
   "execution_count": null,
   "metadata": {
    "colab": {
     "base_uri": "https://localhost:8080/"
    },
    "id": "BEJtEAdaiwJ9",
    "outputId": "6aff7934-6165-4eba-b4c5-c4530c3fba65"
   },
   "outputs": [],
   "source": [
    "text4.collocations()"
   ]
  },
  {
   "cell_type": "code",
   "execution_count": null,
   "metadata": {
    "colab": {
     "base_uri": "https://localhost:8080/"
    },
    "id": "ngYm6Lh0jgML",
    "outputId": "09b551bb-5620-4a53-b84d-8cbb0aaad124"
   },
   "outputs": [],
   "source": [
    "text8.collocations()"
   ]
  },
  {
   "cell_type": "markdown",
   "metadata": {
    "id": "qTfBHyI9j66N"
   },
   "source": [
    "## **3.4 Counting Other Things**\n",
    "\n",
    "- We can look at the distribution of word lengths in a text, by creating a FreqDist out of a long list of numbers, where each number is the length of the corresponding word in the text:\n",
    "\n",
    "We start by deriving a list of the lengths of words in text1, and the FreqDist then counts the number of times each of these occurs.\n",
    "\n",
    "There are at most only 20 distinct items being counted, the numbers 1 through 20, because there are only 20 different word lengths. (there are words consisting of just one character, two characters, ..., twenty characters, but none with twenty one or more characters)"
   ]
  },
  {
   "cell_type": "code",
   "execution_count": null,
   "metadata": {
    "colab": {
     "base_uri": "https://localhost:8080/"
    },
    "id": "hhlqB2eBkVVw",
    "outputId": "648b0deb-e144-4e1d-9f78-1dc11b004ffb"
   },
   "outputs": [],
   "source": [
    "print([len(w) for w in text1])"
   ]
  },
  {
   "cell_type": "code",
   "execution_count": null,
   "metadata": {
    "colab": {
     "base_uri": "https://localhost:8080/"
    },
    "id": "tdtAmpQXmTHA",
    "outputId": "152794a9-955f-4805-c597-093c8a6c28b8"
   },
   "outputs": [],
   "source": [
    "# Print maximum length\n",
    "\n",
    "print(max([len(w) for w in text1]))"
   ]
  },
  {
   "cell_type": "code",
   "execution_count": null,
   "metadata": {
    "colab": {
     "base_uri": "https://localhost:8080/"
    },
    "id": "Pvb03e5jlcsP",
    "outputId": "3b8608a0-c220-49dd-c954-8e99b448b2be"
   },
   "outputs": [],
   "source": [
    "fdist = FreqDist(len(w) for w in text1)\n",
    "print(f\"{fdist}\\n\")\n",
    "fdist"
   ]
  },
  {
   "cell_type": "markdown",
   "metadata": {
    "id": "YsS55B5mmpBy"
   },
   "source": [
    "- How frequent the different lengths of word are (e.g., how many words of length four appear in the text, are there more words of length five than length four, etc). We can do this as follows:"
   ]
  },
  {
   "cell_type": "code",
   "execution_count": null,
   "metadata": {
    "colab": {
     "base_uri": "https://localhost:8080/"
    },
    "id": "u3Xsz5VmlkNV",
    "outputId": "5b4a3866-8349-4a83-f669-b6520217e925"
   },
   "outputs": [],
   "source": [
    "fdist.most_common()"
   ]
  },
  {
   "cell_type": "code",
   "execution_count": null,
   "metadata": {
    "colab": {
     "base_uri": "https://localhost:8080/"
    },
    "id": "esP1N_EXmpbh",
    "outputId": "67015a5a-dda0-4805-c2d8-9cb30b5e4e69"
   },
   "outputs": [],
   "source": [
    "fdist.max()"
   ]
  },
  {
   "cell_type": "code",
   "execution_count": null,
   "metadata": {
    "colab": {
     "base_uri": "https://localhost:8080/"
    },
    "id": "h8HDh4Lcmqwv",
    "outputId": "e7713d4b-7578-489a-f763-d44827794305"
   },
   "outputs": [],
   "source": [
    "fdist[3]"
   ]
  },
  {
   "cell_type": "code",
   "execution_count": null,
   "metadata": {
    "colab": {
     "base_uri": "https://localhost:8080/"
    },
    "id": "ShnEHjdgmr1E",
    "outputId": "0360ace4-a653-49a3-acde-2c620889b92a"
   },
   "outputs": [],
   "source": [
    "# freq() function return the frequency of a given sample.  The frequency of a...\n",
    "# sample is defined as the count of that sample divided by the...\n",
    "# total number of sample outcomes that have been recorded by...\n",
    "# this FreqDist.  The count of a sample is defined as the...\n",
    "# number of times that sample outcome was recorded by this...\n",
    "# FreqDist.  Frequencies are always real numbers in the range [0, 1].\n",
    "\n",
    "fdist.freq(3)"
   ]
  },
  {
   "cell_type": "markdown",
   "metadata": {
    "id": "nxxx1eiln7Js"
   },
   "source": [
    "# **4. Back to Python: Making Decisions and Taking Control**\n",
    "\n",
    "## **4.1 Conditionals**\n",
    "\n",
    "Python Tutorial: https://www.w3schools.com/python/default.asp\n",
    "\n",
    "Pyrhon Operators: https://www.w3schools.com/python/python_operators.asp"
   ]
  },
  {
   "cell_type": "code",
   "execution_count": null,
   "metadata": {
    "colab": {
     "base_uri": "https://localhost:8080/"
    },
    "id": "T8ehPfRCmtrI",
    "outputId": "be508352-0709-4f33-bde5-da8a683a7b91"
   },
   "outputs": [],
   "source": [
    "# If you get an error saying sent7 is undefined, first run the following code:\n",
    "# from nltk.book import * \n",
    "\n",
    "print(sent7)"
   ]
  },
  {
   "cell_type": "code",
   "execution_count": null,
   "metadata": {
    "colab": {
     "base_uri": "https://localhost:8080/"
    },
    "id": "zCYZsqhKwrqy",
    "outputId": "6b41d4ec-c834-4ee1-c239-5d8af0ca17e4"
   },
   "outputs": [],
   "source": [
    "[w for w in sent7 if len(w) < 4]"
   ]
  },
  {
   "cell_type": "code",
   "execution_count": null,
   "metadata": {
    "colab": {
     "base_uri": "https://localhost:8080/"
    },
    "id": "a7qo8O3uxIF4",
    "outputId": "6cb9ddd5-0c8b-4234-fa97-5ac5dda9e1ba"
   },
   "outputs": [],
   "source": [
    "[w for w in sent7 if len(w) <= 4]"
   ]
  },
  {
   "cell_type": "code",
   "execution_count": null,
   "metadata": {
    "colab": {
     "base_uri": "https://localhost:8080/"
    },
    "id": "A0K7ATPaxNJq",
    "outputId": "0d5ef7a1-cf71-4ae1-9410-c947bf1e6183"
   },
   "outputs": [],
   "source": [
    "[w for w in sent7 if len(w) == 4]"
   ]
  },
  {
   "cell_type": "code",
   "execution_count": null,
   "metadata": {
    "colab": {
     "base_uri": "https://localhost:8080/"
    },
    "id": "jNsYu_r0xPjy",
    "outputId": "9a48b2b7-a3e1-4604-810f-b89d02d67407"
   },
   "outputs": [],
   "source": [
    "print([w for w in sent7 if len(w) != 4])"
   ]
  },
  {
   "cell_type": "markdown",
   "metadata": {
    "id": "l6gyRmrExqQi"
   },
   "source": [
    "There is a common pattern to all of these examples: \n",
    "\n",
    "**[w for w in text if condition ]**\n",
    "\n",
    "where condition is a Python \"test\" that yields either true or false. In the cases shown in the previous code example, the condition is always a numerical comparison. However, we can also test various properties of words, using the functions listed bellow:\n",
    "\n",
    "1. **s.startwith(t)** ---- test if s starts with t \n",
    "2. **s.endswith(t)**  ---- test if s ends with t\n",
    "3. **t in s**         ---- test if t is a substring of s\n",
    "4. **s.islower()**    ---- test if s contains cased characters and all are lowercase\n",
    "5. **s.isupper()**    ---- test if s contains cased characters and all are uppercase\n",
    "6. **s.isalpha()**    ---- test if s is non-empty and all characters in s are alphabetic\n",
    "7. **s.isalnum()**    ---- test if s is non-empty and all characters in s are alphanumeric\n",
    "8. **s.isdigit()**    ---- test if s is non-empty and all characters in s are digits\n",
    "9. **s.istitle()**    ---- test if s contains cased characters and is titlecased (i.e. all words in s have initial capitals)"
   ]
  },
  {
   "cell_type": "code",
   "execution_count": null,
   "metadata": {
    "colab": {
     "base_uri": "https://localhost:8080/"
    },
    "id": "inYVJBMzxRUd",
    "outputId": "55a6511f-6fd8-445a-d81b-cf908b6c431f"
   },
   "outputs": [],
   "source": [
    "sorted(w for w in set(text1) if w.endswith('ableness'))"
   ]
  },
  {
   "cell_type": "code",
   "execution_count": null,
   "metadata": {
    "colab": {
     "base_uri": "https://localhost:8080/"
    },
    "id": "-mPBz5kDzQ9n",
    "outputId": "96f27fe8-7cc1-4519-efd8-7a1be2fe5a65"
   },
   "outputs": [],
   "source": [
    "sorted(term for term in set(text4) if 'gnt' in term)"
   ]
  },
  {
   "cell_type": "code",
   "execution_count": null,
   "metadata": {
    "colab": {
     "base_uri": "https://localhost:8080/"
    },
    "id": "kjE6SbqyzSSn",
    "outputId": "95131ca9-0e95-436d-d9ba-7f8d0bb72283"
   },
   "outputs": [],
   "source": [
    "print(sorted(item for item in set(text6) if item.istitle()))"
   ]
  },
  {
   "cell_type": "code",
   "execution_count": null,
   "metadata": {
    "colab": {
     "base_uri": "https://localhost:8080/"
    },
    "id": "BvQrl9ruzTf1",
    "outputId": "9a3f89c4-cc17-4fdb-b7d7-3225c71ea30c"
   },
   "outputs": [],
   "source": [
    "sorted(item for item in set(sent7) if item.isdigit())"
   ]
  },
  {
   "cell_type": "markdown",
   "metadata": {
    "id": "hilfJocS0Oq4"
   },
   "source": [
    "We can also create more complex conditions. If c is a condition, then \"not c\" is also a condition. If we have two conditions c1 and c2, then we can combine them to form a new condition using conjunction and disjunction: \"c1 and c2\", \"c1 or c2\"."
   ]
  },
  {
   "cell_type": "markdown",
   "metadata": {
    "id": "_R-c8IAV2HhX"
   },
   "source": [
    "### Quick Test: What will be the outcome of these lines??"
   ]
  },
  {
   "cell_type": "code",
   "execution_count": null,
   "metadata": {
    "id": "mWU7wRqdzX9a"
   },
   "outputs": [],
   "source": [
    "sorted(w for w in set(text7) if '-' in w and 'index' in w)\n",
    "sorted(wd for wd in set(text3) if wd.istitle() and len(wd) > 10)\n",
    "sorted(w for w in set(sent7) if not w.islower())\n",
    "sorted(t for t in set(text2) if 'cie' in t or 'cei' in t)"
   ]
  },
  {
   "cell_type": "markdown",
   "metadata": {
    "id": "B72PzppO2rzN"
   },
   "source": [
    "```\n",
    "\n",
    "\n",
    "\n",
    "\n",
    "\n",
    "\n",
    "```"
   ]
  },
  {
   "cell_type": "code",
   "execution_count": null,
   "metadata": {
    "id": "eNrH2R_L2UsL"
   },
   "outputs": [],
   "source": []
  },
  {
   "cell_type": "code",
   "execution_count": null,
   "metadata": {
    "id": "iW8iRQ5U2wL9"
   },
   "outputs": [],
   "source": []
  },
  {
   "cell_type": "code",
   "execution_count": null,
   "metadata": {
    "id": "bcxNz6xx2Upp"
   },
   "outputs": [],
   "source": []
  },
  {
   "cell_type": "markdown",
   "metadata": {
    "id": "fXTv19LG2dTT"
   },
   "source": [
    "## **4.2 Operating on Every Element**"
   ]
  },
  {
   "cell_type": "code",
   "execution_count": null,
   "metadata": {
    "colab": {
     "base_uri": "https://localhost:8080/"
    },
    "id": "o2O4Xo6g2ioX",
    "outputId": "ccf495ea-3494-4765-a16b-ea9b03c2467d"
   },
   "outputs": [],
   "source": [
    "print([len(w) for w in text1])"
   ]
  },
  {
   "cell_type": "code",
   "execution_count": null,
   "metadata": {
    "colab": {
     "base_uri": "https://localhost:8080/"
    },
    "id": "Flq5LFsS8isN",
    "outputId": "5319a39a-1fc1-4ce8-a37c-66c5548d8ec1"
   },
   "outputs": [],
   "source": [
    "print([w.upper() for w in text1])"
   ]
  },
  {
   "cell_type": "markdown",
   "metadata": {
    "id": "8Ldbc_g7BvEi"
   },
   "source": [
    "- Let's take a look about some examples"
   ]
  },
  {
   "cell_type": "code",
   "execution_count": null,
   "metadata": {
    "colab": {
     "base_uri": "https://localhost:8080/"
    },
    "id": "juaUtSua85Hy",
    "outputId": "4f1dfc5d-4e31-47b2-eb16-938f0306164a"
   },
   "outputs": [],
   "source": [
    "# Considers all words\n",
    "len(text1)"
   ]
  },
  {
   "cell_type": "code",
   "execution_count": null,
   "metadata": {
    "colab": {
     "base_uri": "https://localhost:8080/"
    },
    "id": "j5GjGLL4B2En",
    "outputId": "d467c922-9f38-4413-ffbd-0361ad62ba84"
   },
   "outputs": [],
   "source": [
    "# Considers the set of all words\n",
    "len(set(text1))"
   ]
  },
  {
   "cell_type": "code",
   "execution_count": null,
   "metadata": {
    "colab": {
     "base_uri": "https://localhost:8080/"
    },
    "id": "ZezSHC0ZB3B2",
    "outputId": "ba823223-f718-4e03-9b32-e0b6710dbbad"
   },
   "outputs": [],
   "source": [
    "# considers the set of all converter to lower case words\n",
    "# E.g. we do not double-counting This and this\n",
    "len(set(word.lower() for word in text1))"
   ]
  },
  {
   "cell_type": "code",
   "execution_count": null,
   "metadata": {
    "colab": {
     "base_uri": "https://localhost:8080/"
    },
    "id": "JvC8kAv0CLWL",
    "outputId": "9ffed96b-6fc9-4b78-f37a-09ad425d0474"
   },
   "outputs": [],
   "source": [
    "# eliminate numbers and punctuation from the vocabulary count by\n",
    "# filtering out any non-alphabetic items:\n",
    "len(set(word.lower() for word in text1 if word.isalpha()))"
   ]
  },
  {
   "cell_type": "markdown",
   "metadata": {
    "id": "eq6TD8MQDswn"
   },
   "source": [
    "## **4.3 Nested Code Blocks**"
   ]
  },
  {
   "cell_type": "code",
   "execution_count": null,
   "metadata": {
    "id": "zCVg6QkKFFwp"
   },
   "outputs": [],
   "source": [
    "# If you are using Python 2.6 or 2.7, you need to include the following line\n",
    "# in order for the above print function to be recognized:\n",
    "\n",
    "# from __future__ import print_function"
   ]
  },
  {
   "cell_type": "code",
   "execution_count": null,
   "metadata": {
    "colab": {
     "base_uri": "https://localhost:8080/"
    },
    "id": "c9hz4P8oDI-x",
    "outputId": "f0e8c21b-81ef-4eac-8ccb-a57b6825fd3b"
   },
   "outputs": [],
   "source": [
    "word = 'cat'\n",
    "if len(word) < 5:\n",
    "    print('word length is less than 5')"
   ]
  },
  {
   "cell_type": "code",
   "execution_count": null,
   "metadata": {
    "colab": {
     "base_uri": "https://localhost:8080/"
    },
    "id": "kpatC1kTFEXG",
    "outputId": "7ea1602b-02cb-48e7-cead-d0f344daf5dc"
   },
   "outputs": [],
   "source": [
    "# The condition is not true then the program will execute\n",
    "# from the end of the if block\n",
    "\n",
    "if len(word) >= 5:\n",
    "    print('word length is greater than or equal to 5')\n",
    "\n",
    "print(\"The block of the code is not executed!\")"
   ]
  },
  {
   "cell_type": "code",
   "execution_count": null,
   "metadata": {
    "colab": {
     "base_uri": "https://localhost:8080/"
    },
    "id": "rY-fSgJJEDj9",
    "outputId": "dba6aa35-ae4a-4346-be06-9955137d8494"
   },
   "outputs": [],
   "source": [
    "for word in ['Call', 'me', 'Ishmael', '.']:\n",
    "    print(word)"
   ]
  },
  {
   "cell_type": "markdown",
   "metadata": {
    "id": "-cDEOItAFzmb"
   },
   "source": [
    "## **4.4 Looping with Conditions**"
   ]
  },
  {
   "cell_type": "code",
   "execution_count": null,
   "metadata": {
    "colab": {
     "base_uri": "https://localhost:8080/"
    },
    "id": "o9UJz4XjFnzV",
    "outputId": "ee866306-cfae-45cc-b855-cea988f62862"
   },
   "outputs": [],
   "source": [
    "sent1 = ['Call', 'me', 'Ishmael', '.']\n",
    "for temp in sent1:\n",
    "    if temp.endswith('l'):\n",
    "        print(temp)"
   ]
  },
  {
   "cell_type": "code",
   "execution_count": null,
   "metadata": {
    "colab": {
     "base_uri": "https://localhost:8080/"
    },
    "id": "hPOHYfJFGqzn",
    "outputId": "3a89fd98-d27b-4f8b-8290-4dbf79b19984"
   },
   "outputs": [],
   "source": [
    "for token in sent1:\n",
    "    if token.islower():\n",
    "        print(token, 'is a lowercase word')\n",
    "    elif token.istitle():\n",
    "        print(token, 'is a titlecase word')\n",
    "    else:\n",
    "        print(token, 'is punctuation')"
   ]
  },
  {
   "cell_type": "markdown",
   "metadata": {
    "id": "8YnD_fpcHniK"
   },
   "source": [
    "- Let's combine the idioms we've been exploring. First, we create a list of cie and cei words, then we loop over each item and print it. Notice the extra information given in the print statement: end=' '. This tells Python to print a space (not the default newline) after each word."
   ]
  },
  {
   "cell_type": "code",
   "execution_count": null,
   "metadata": {
    "colab": {
     "base_uri": "https://localhost:8080/"
    },
    "id": "LWO4GKWLHR52",
    "outputId": "c2daac12-6696-4cce-bb21-aa867db7b59f"
   },
   "outputs": [],
   "source": [
    "tricky = sorted(w for w in set(text2) if 'cie' in w or 'cei' in w)\n",
    "for word in tricky:\n",
    "    print(word, end=' ')"
   ]
  },
  {
   "cell_type": "code",
   "execution_count": null,
   "metadata": {
    "id": "MiN2x-ORH6Pv"
   },
   "outputs": [],
   "source": []
  }
 ],
 "metadata": {
  "colab": {
   "collapsed_sections": [],
   "provenance": []
  },
  "kernelspec": {
   "display_name": "Python 3 (ipykernel)",
   "language": "python",
   "name": "python3"
  },
  "language_info": {
   "codemirror_mode": {
    "name": "ipython",
    "version": 3
   },
   "file_extension": ".py",
   "mimetype": "text/x-python",
   "name": "python",
   "nbconvert_exporter": "python",
   "pygments_lexer": "ipython3",
   "version": "3.10.9"
  }
 },
 "nbformat": 4,
 "nbformat_minor": 1
}
